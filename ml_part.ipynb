{
 "cells": [
  {
   "cell_type": "code",
   "execution_count": 6,
   "metadata": {},
   "outputs": [
    {
     "name": "stdout",
     "output_type": "stream",
     "text": [
      "root\n",
      " |-- attack_index: double (nullable = true)\n",
      " |-- scaled_ttl_features: vector (nullable = true)\n",
      " |-- scaled_tcp_flags_features: vector (nullable = true)\n",
      " |-- scaled_flow_features: vector (nullable = true)\n",
      " |-- scaled_duration_features: vector (nullable = true)\n",
      " |-- scaled_pkt_size_features: vector (nullable = true)\n",
      " |-- scaled_tcp_win_features: vector (nullable = true)\n",
      " |-- scaled_l4_dst_port_features: vector (nullable = true)\n",
      "\n",
      "1000000\n"
     ]
    }
   ],
   "source": [
    "# Import parquet file with pySpark\n",
    "from pyspark.sql import SparkSession\n",
    "\n",
    "# Create a spark session\n",
    "spark = spark = SparkSession.builder \\\n",
    "                            .appName(\"ML-part\") \\\n",
    "                            .master(\"local[*]\") \\\n",
    "                            .config(\"spark.driver.memory\", \"16g\") \\\n",
    "                            .config(\"spark.executor.memory\", \"16g\") \\\n",
    "                            .getOrCreate()\n",
    "# Read parquet file\n",
    "df = spark.read.parquet(r\"./simplified_train_data.parquet\")\n",
    "df_test = spark.read.parquet(r\"./simplified_test_data.parquet\")\n",
    "\n",
    "# Show the data\n",
    "df.printSchema()\n",
    "print(df.count())\n"
   ]
  },
  {
   "cell_type": "code",
   "execution_count": 7,
   "metadata": {},
   "outputs": [
    {
     "name": "stdout",
     "output_type": "stream",
     "text": [
      "['scaled_ttl_features', 'scaled_tcp_flags_features', 'scaled_flow_features', 'scaled_duration_features', 'scaled_pkt_size_features', 'scaled_tcp_win_features', 'scaled_l4_dst_port_features']\n"
     ]
    }
   ],
   "source": [
    "from pyspark.ml.feature import VectorAssembler\n",
    "\n",
    "# Preparar os dados com VectorAssembler\n",
    "feature_columns = df.columns\n",
    "feature_columns.remove(\"attack_index\")\n",
    "print(feature_columns)\n",
    "assembler = VectorAssembler(inputCols=feature_columns, outputCol=\"features\")\n",
    "df_assembled = assembler.transform(df)"
   ]
  },
  {
   "cell_type": "code",
   "execution_count": null,
   "metadata": {},
   "outputs": [],
   "source": [
    "from pyspark.ml.classification import RandomForestClassifier, NaiveBayes, LogisticRegression, MultilayerPerceptronClassifier\n",
    "\n",
    "# Definir o Random Forest\n",
    "rf = RandomForestClassifier(labelCol=\"attack_index\", featuresCol=\"features\", numTrees=10)\n",
    "\n",
    "# Definir o Naive Bayes\n",
    "#nb = NaiveBayes(labelCol=\"attack_index\", featuresCol=\"features\")\n",
    "\n",
    "# Definir o Logistic Regression\n",
    "lr = LogisticRegression(labelCol=\"attack_index\", featuresCol=\"features\")\n",
    "\n",
    "# Configuração do Multilayer Perceptron\n",
    "# Obter o número de características\n",
    "def get_feature_count(df, feature_col=\"features\"):\n",
    "# Extrai os metadados da coluna de características e calcula a soma dos tamanhos dos atributos\n",
    "    attributes = df.schema[feature_col].metadata[\"ml_attr\"][\"attrs\"]\n",
    "    feature_count = sum(len(attrs) for attrs in attributes.values())\n",
    "    return feature_count\n",
    "\n",
    "\n",
    "input_layers = get_feature_count(df_assembled, \"features\")\n",
    "output_layers = df_assembled.select(\"attack_index\").distinct().count()\n",
    "mlp = MultilayerPerceptronClassifier(\n",
    "    labelCol=\"attack_index\", \n",
    "    featuresCol=\"features\", \n",
    "    layers=[input_layers, 9, 13, 11, output_layers],\n",
    "    maxIter=100\n",
    ")"
   ]
  },
  {
   "cell_type": "code",
   "execution_count": 9,
   "metadata": {},
   "outputs": [],
   "source": [
    "# Random Forest\n",
    "model_rf = rf.fit(df_assembled)\n",
    "#model_nb = nb.fit(df_assembled)\n",
    "# logistic regression\n",
    "model_lr = lr.fit(df_assembled)\n",
    "# Multilayer Perceptron\n",
    "model_mlp = mlp.fit(df_assembled)"
   ]
  },
  {
   "cell_type": "code",
   "execution_count": 10,
   "metadata": {},
   "outputs": [],
   "source": [
    "from unittest import result\n",
    "\n",
    "\n",
    "result_rf = model_rf.transform(assembler.transform(df_test))\n",
    "result_lr = model_lr.transform(assembler.transform(df_test))\n",
    "result_mlp = model_mlp.transform(assembler.transform(df_test))"
   ]
  },
  {
   "cell_type": "code",
   "execution_count": 11,
   "metadata": {},
   "outputs": [],
   "source": [
    "from pyspark.ml.evaluation import MulticlassClassificationEvaluator\n",
    "\n",
    "# Evaluator per l'accuratezza\n",
    "accuracy_evaluator = MulticlassClassificationEvaluator(\n",
    "    labelCol=\"attack_index\", \n",
    "    predictionCol=\"prediction\", \n",
    "    metricName=\"accuracy\"\n",
    ")\n",
    "\n",
    "# Evaluator per precision\n",
    "precision_evaluator = MulticlassClassificationEvaluator(\n",
    "    labelCol=\"attack_index\", \n",
    "    predictionCol=\"prediction\", \n",
    "    metricName=\"weightedPrecision\"\n",
    ")\n",
    "\n",
    "# Evaluator per recall\n",
    "recall_evaluator = MulticlassClassificationEvaluator(\n",
    "    labelCol=\"attack_index\", \n",
    "    predictionCol=\"prediction\", \n",
    "    metricName=\"weightedRecall\"\n",
    ")\n",
    "\n",
    "# Evaluator per f1 score\n",
    "f1_evaluator = MulticlassClassificationEvaluator(\n",
    "    labelCol=\"attack_index\", \n",
    "    predictionCol=\"prediction\", \n",
    "    metricName=\"f1\"\n",
    ")"
   ]
  },
  {
   "cell_type": "code",
   "execution_count": 12,
   "metadata": {},
   "outputs": [
    {
     "name": "stdout",
     "output_type": "stream",
     "text": [
      "Random Forest: Accuracy = 0.887, Precision = 0.8724523986707202, Recall = 0.8870000000000001, F1 = 0.871351427985349\n"
     ]
    }
   ],
   "source": [
    "accuracy_rf = accuracy_evaluator.evaluate(result_rf)\n",
    "precision_rf = precision_evaluator.evaluate(result_rf)\n",
    "recall_rf = recall_evaluator.evaluate(result_rf)\n",
    "f1_rf = f1_evaluator.evaluate(result_rf)\n",
    "\n",
    "print(f\"Random Forest: Accuracy = {accuracy_rf}, Precision = {precision_rf}, Recall = {recall_rf}, F1 = {f1_rf}\")"
   ]
  },
  {
   "cell_type": "code",
   "execution_count": 13,
   "metadata": {},
   "outputs": [
    {
     "name": "stdout",
     "output_type": "stream",
     "text": [
      "Logistic Regression: Accuracy = 0.701, Precision = 0.6845894484890769, Recall = 0.7010000000000001, F1 = 0.6780689236669066\n"
     ]
    }
   ],
   "source": [
    "accuracy_lr = accuracy_evaluator.evaluate(result_lr)\n",
    "precision_lr = precision_evaluator.evaluate(result_lr)\n",
    "recall_lr = recall_evaluator.evaluate(result_lr)\n",
    "f1_lr = f1_evaluator.evaluate(result_lr)\n",
    "\n",
    "print(f\"Logistic Regression: Accuracy = {accuracy_lr}, Precision = {precision_lr}, Recall = {recall_lr}, F1 = {f1_lr}\")"
   ]
  },
  {
   "cell_type": "code",
   "execution_count": 14,
   "metadata": {},
   "outputs": [
    {
     "name": "stdout",
     "output_type": "stream",
     "text": [
      "Multilayer Perceptron: Accuracy = 0.821, Precision = 0.778676984951985, Recall = 0.8210000000000001, F1 = 0.7939024417470336\n"
     ]
    }
   ],
   "source": [
    "accuracy_mlp = accuracy_evaluator.evaluate(result_mlp)\n",
    "precision_mlp = precision_evaluator.evaluate(result_mlp)\n",
    "recall_mlp = recall_evaluator.evaluate(result_mlp)\n",
    "f1_mlp = f1_evaluator.evaluate(result_mlp)\n",
    "\n",
    "print(f\"Multilayer Perceptron: Accuracy = {accuracy_mlp}, Precision = {precision_mlp}, Recall = {recall_mlp}, F1 = {f1_mlp}\")"
   ]
  }
 ],
 "metadata": {
  "kernelspec": {
   "display_name": "vscode_pyspark",
   "language": "python",
   "name": "vscode_pyspark"
  },
  "language_info": {
   "codemirror_mode": {
    "name": "ipython",
    "version": 3
   },
   "file_extension": ".py",
   "mimetype": "text/x-python",
   "name": "python",
   "nbconvert_exporter": "python",
   "pygments_lexer": "ipython3",
   "version": "3.11.9"
  }
 },
 "nbformat": 4,
 "nbformat_minor": 2
}
