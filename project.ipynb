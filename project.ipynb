{
 "cells": [
  {
   "cell_type": "code",
   "execution_count": 1,
   "metadata": {},
   "outputs": [
    {
     "name": "stdout",
     "output_type": "stream",
     "text": [
      "3.5.1\n"
     ]
    }
   ],
   "source": [
    "# check if pyspark works\n",
    "import pyspark\n",
    "print(pyspark.__version__)"
   ]
  },
  {
   "cell_type": "code",
   "execution_count": 2,
   "metadata": {},
   "outputs": [],
   "source": [
    "from pyspark.sql import SparkSession\n",
    "\n",
    "# Start spark session\n",
    "spark = SparkSession.builder \\\n",
    "    .appName(\"Multiclass classification IoT\") \\\n",
    "    .getOrCreate()\n",
    "\n",
    "# Load test data\n",
    "test_data = spark.read.csv(r\"./dataset/NF-ToN-IoT-v2-test.csv\", header=True, inferSchema=True)\n",
    "\n",
    "# Load train data\n",
    "train_data = spark.read.csv(r\"./dataset/NF-ToN-IoT-v2-train.csv\", header=True, inferSchema=True)"
   ]
  },
  {
   "cell_type": "code",
   "execution_count": 3,
   "metadata": {},
   "outputs": [
    {
     "name": "stdout",
     "output_type": "stream",
     "text": [
      "+-------------+-----------+-------------+-----------+--------+--------+--------+-------+---------+--------+---------+----------------+----------------+--------------------------+-----------+------------+-------+-------+----------------+-----------------+--------------+--------------+-----------------------+-----------------------+----------------------+---------------------+-----------------------+----------------------+-------------------------+-------------------------+------------------------+-------------------------+-------------------------+--------------------------+---------------------------+--------------+---------------+---------+--------------+------------+--------------+--------------+--------------------+-----+--------+\n",
      "|IPV4_SRC_ADDR|L4_SRC_PORT|IPV4_DST_ADDR|L4_DST_PORT|PROTOCOL|L7_PROTO|IN_BYTES|IN_PKTS|OUT_BYTES|OUT_PKTS|TCP_FLAGS|CLIENT_TCP_FLAGS|SERVER_TCP_FLAGS|FLOW_DURATION_MILLISECONDS|DURATION_IN|DURATION_OUT|MIN_TTL|MAX_TTL|LONGEST_FLOW_PKT|SHORTEST_FLOW_PKT|MIN_IP_PKT_LEN|MAX_IP_PKT_LEN|SRC_TO_DST_SECOND_BYTES|DST_TO_SRC_SECOND_BYTES|RETRANSMITTED_IN_BYTES|RETRANSMITTED_IN_PKTS|RETRANSMITTED_OUT_BYTES|RETRANSMITTED_OUT_PKTS|SRC_TO_DST_AVG_THROUGHPUT|DST_TO_SRC_AVG_THROUGHPUT|NUM_PKTS_UP_TO_128_BYTES|NUM_PKTS_128_TO_256_BYTES|NUM_PKTS_256_TO_512_BYTES|NUM_PKTS_512_TO_1024_BYTES|NUM_PKTS_1024_TO_1514_BYTES|TCP_WIN_MAX_IN|TCP_WIN_MAX_OUT|ICMP_TYPE|ICMP_IPV4_TYPE|DNS_QUERY_ID|DNS_QUERY_TYPE|DNS_TTL_ANSWER|FTP_COMMAND_RET_CODE|Label|  Attack|\n",
      "+-------------+-----------+-------------+-----------+--------+--------+--------+-------+---------+--------+---------+----------------+----------------+--------------------------+-----------+------------+-------+-------+----------------+-----------------+--------------+--------------+-----------------------+-----------------------+----------------------+---------------------+-----------------------+----------------------+-------------------------+-------------------------+------------------------+-------------------------+-------------------------+--------------------------+---------------------------+--------------+---------------+---------+--------------+------------+--------------+--------------+--------------------+-----+--------+\n",
      "| 192.168.1.32|      46696|192.168.1.180|      17288|       6|     0.0|      48|      1|        0|       0|        2|               2|               0|                         0|          0|           0|      0|      0|              48|               48|             0|            48|                   48.0|                    0.0|                     0|                    0|                      0|                     0|                   384000|                        0|                       1|                        0|                        0|                         0|                          0|          4096|              0|        0|             0|           0|             0|             0|                   0|    1|scanning|\n",
      "| 192.168.1.30|      56607|192.168.1.194|      15632|       6|     0.0|      48|      1|       40|       1|       22|               2|              20|                         0|          0|           0|      0|      0|              48|               40|            40|            48|                   48.0|                   40.0|                     0|                    0|                      0|                     0|                   384000|                   320000|                       2|                        0|                        0|                         0|                          0|          4096|              0|        0|             0|           0|             0|             0|                   0|    1|scanning|\n",
      "| 192.168.1.31|      42103|192.168.1.190|       2004|       6|     0.0|      44|      1|       40|       1|       22|               2|              20|                         0|          0|           0|      0|      0|              44|               40|            40|            44|                   44.0|                   40.0|                     0|                    0|                      0|                     0|                   352000|                   320000|                       2|                        0|                        0|                         0|                          0|          1024|              0|        0|             0|           0|             0|             0|                   0|    0|  Benign|\n",
      "| 192.168.1.32|      52898|192.168.1.195|      52878|       6|     0.0|      48|      1|        0|       0|        2|               2|               0|                         0|          0|           0|      0|      0|              48|               48|             0|            48|                   48.0|                    0.0|                     0|                    0|                      0|                     0|                   384000|                        0|                       1|                        0|                        0|                         0|                          0|          4096|              0|        0|             0|           0|             0|             0|                   0|    1|scanning|\n",
      "| 192.168.1.38|      59700|192.168.1.194|         80|       6|     7.0|     268|      5|      240|       4|       18|              18|              18|                   4294951|         16|          16|     64|     64|              60|               52|            52|            60|                  268.0|                  240.0|                     0|                    0|                      0|                     0|                   120000|                   112000|                       9|                        0|                        0|                         0|                          0|         29200|           5792|        0|             0|           0|             0|             0|                   0|    1|    ddos|\n",
      "+-------------+-----------+-------------+-----------+--------+--------+--------+-------+---------+--------+---------+----------------+----------------+--------------------------+-----------+------------+-------+-------+----------------+-----------------+--------------+--------------+-----------------------+-----------------------+----------------------+---------------------+-----------------------+----------------------+-------------------------+-------------------------+------------------------+-------------------------+-------------------------+--------------------------+---------------------------+--------------+---------------+---------+--------------+------------+--------------+--------------+--------------------+-----+--------+\n",
      "only showing top 5 rows\n",
      "\n",
      "+-------------+-----------+-------------+-----------+--------+--------+--------+-------+---------+--------+---------+----------------+----------------+--------------------------+-----------+------------+-------+-------+----------------+-----------------+--------------+--------------+-----------------------+-----------------------+----------------------+---------------------+-----------------------+----------------------+-------------------------+-------------------------+------------------------+-------------------------+-------------------------+--------------------------+---------------------------+--------------+---------------+---------+--------------+------------+--------------+--------------+--------------------+-----+--------+\n",
      "|IPV4_SRC_ADDR|L4_SRC_PORT|IPV4_DST_ADDR|L4_DST_PORT|PROTOCOL|L7_PROTO|IN_BYTES|IN_PKTS|OUT_BYTES|OUT_PKTS|TCP_FLAGS|CLIENT_TCP_FLAGS|SERVER_TCP_FLAGS|FLOW_DURATION_MILLISECONDS|DURATION_IN|DURATION_OUT|MIN_TTL|MAX_TTL|LONGEST_FLOW_PKT|SHORTEST_FLOW_PKT|MIN_IP_PKT_LEN|MAX_IP_PKT_LEN|SRC_TO_DST_SECOND_BYTES|DST_TO_SRC_SECOND_BYTES|RETRANSMITTED_IN_BYTES|RETRANSMITTED_IN_PKTS|RETRANSMITTED_OUT_BYTES|RETRANSMITTED_OUT_PKTS|SRC_TO_DST_AVG_THROUGHPUT|DST_TO_SRC_AVG_THROUGHPUT|NUM_PKTS_UP_TO_128_BYTES|NUM_PKTS_128_TO_256_BYTES|NUM_PKTS_256_TO_512_BYTES|NUM_PKTS_512_TO_1024_BYTES|NUM_PKTS_1024_TO_1514_BYTES|TCP_WIN_MAX_IN|TCP_WIN_MAX_OUT|ICMP_TYPE|ICMP_IPV4_TYPE|DNS_QUERY_ID|DNS_QUERY_TYPE|DNS_TTL_ANSWER|FTP_COMMAND_RET_CODE|Label|  Attack|\n",
      "+-------------+-----------+-------------+-----------+--------+--------+--------+-------+---------+--------+---------+----------------+----------------+--------------------------+-----------+------------+-------+-------+----------------+-----------------+--------------+--------------+-----------------------+-----------------------+----------------------+---------------------+-----------------------+----------------------+-------------------------+-------------------------+------------------------+-------------------------+-------------------------+--------------------------+---------------------------+--------------+---------------+---------+--------------+------------+--------------+--------------+--------------------+-----+--------+\n",
      "| 192.168.1.32|      58592|192.168.1.195|         80|       6|     7.0|     661|     10|     2234|       8|       27|              27|              27|                   4294733|        234|         234|     64|     64|            1500|               40|            40|          1500|                  661.0|                 2234.0|                     0|                    0|                      0|                     0|                    16000|                    72000|                      15|                        0|                        2|                         0|                          1|         29200|          65535|        0|             0|           0|             0|             0|                   0|    1|password|\n",
      "| 192.168.1.30|      41436|192.168.1.184|        443|       6|    91.0|     112|      2|      112|       2|       19|              18|              19|                   4294904|          0|          63|     64|     64|              60|               52|            52|            60|                  112.0|                  112.0|                     0|                    0|                      0|                     0|                   896000|                     8000|                       4|                        0|                        0|                         0|                          0|         29200|          28960|        0|             0|           0|             0|             0|                   0|    1|    ddos|\n",
      "| 192.168.1.30|      32374|192.168.1.180|      25720|       6|     0.0|      48|      1|        0|       0|        2|               2|               0|                         0|          0|           0|      0|      0|              48|               48|             0|            48|                   48.0|                    0.0|                     0|                    0|                      0|                     0|                   384000|                        0|                       1|                        0|                        0|                         0|                          0|          4096|              0|        0|             0|           0|             0|             0|                   0|    1|scanning|\n",
      "| 192.168.1.35|      53904|52.28.231.150|         80|       6|   7.178|    4106|      8|     2132|       7|       27|              27|              27|                         0|          0|           0|     64|     64|            1500|               52|            52|          1500|                 4106.0|                 2132.0|                     0|                    0|                      0|                     0|                 32848000|                 17056000|                      10|                        0|                        1|                         1|                          3|         29200|          26847|        0|             0|           0|             0|             0|                   0|    1|     xss|\n",
      "| 192.168.1.30|      42453| 192.168.1.49|       5544|       6|     0.0|      44|      1|        0|       0|        2|               2|               0|                         0|          0|           0|      0|      0|              44|               44|             0|            44|                   44.0|                    0.0|                     0|                    0|                      0|                     0|                   352000|                        0|                       1|                        0|                        0|                         0|                          0|          1024|              0|        0|             0|           0|             0|             0|                   0|    0|  Benign|\n",
      "+-------------+-----------+-------------+-----------+--------+--------+--------+-------+---------+--------+---------+----------------+----------------+--------------------------+-----------+------------+-------+-------+----------------+-----------------+--------------+--------------+-----------------------+-----------------------+----------------------+---------------------+-----------------------+----------------------+-------------------------+-------------------------+------------------------+-------------------------+-------------------------+--------------------------+---------------------------+--------------+---------------+---------+--------------+------------+--------------+--------------+--------------------+-----+--------+\n",
      "only showing top 5 rows\n",
      "\n"
     ]
    }
   ],
   "source": [
    "# Display the first few rows of the training dataset to verify it's loaded correctly\n",
    "train_data.show(5)\n",
    "\n",
    "# Display the first few rows of the testing dataset to verify it's loaded correctly\n",
    "test_data.show(5)"
   ]
  },
  {
   "cell_type": "code",
   "execution_count": 4,
   "metadata": {},
   "outputs": [
    {
     "name": "stdout",
     "output_type": "stream",
     "text": [
      "root\n",
      " |-- IPV4_SRC_ADDR: string (nullable = true)\n",
      " |-- L4_SRC_PORT: integer (nullable = true)\n",
      " |-- IPV4_DST_ADDR: string (nullable = true)\n",
      " |-- L4_DST_PORT: integer (nullable = true)\n",
      " |-- PROTOCOL: integer (nullable = true)\n",
      " |-- L7_PROTO: double (nullable = true)\n",
      " |-- IN_BYTES: integer (nullable = true)\n",
      " |-- IN_PKTS: integer (nullable = true)\n",
      " |-- OUT_BYTES: integer (nullable = true)\n",
      " |-- OUT_PKTS: integer (nullable = true)\n",
      " |-- TCP_FLAGS: integer (nullable = true)\n",
      " |-- CLIENT_TCP_FLAGS: integer (nullable = true)\n",
      " |-- SERVER_TCP_FLAGS: integer (nullable = true)\n",
      " |-- FLOW_DURATION_MILLISECONDS: integer (nullable = true)\n",
      " |-- DURATION_IN: integer (nullable = true)\n",
      " |-- DURATION_OUT: integer (nullable = true)\n",
      " |-- MIN_TTL: integer (nullable = true)\n",
      " |-- MAX_TTL: integer (nullable = true)\n",
      " |-- LONGEST_FLOW_PKT: integer (nullable = true)\n",
      " |-- SHORTEST_FLOW_PKT: integer (nullable = true)\n",
      " |-- MIN_IP_PKT_LEN: integer (nullable = true)\n",
      " |-- MAX_IP_PKT_LEN: integer (nullable = true)\n",
      " |-- SRC_TO_DST_SECOND_BYTES: double (nullable = true)\n",
      " |-- DST_TO_SRC_SECOND_BYTES: double (nullable = true)\n",
      " |-- RETRANSMITTED_IN_BYTES: integer (nullable = true)\n",
      " |-- RETRANSMITTED_IN_PKTS: integer (nullable = true)\n",
      " |-- RETRANSMITTED_OUT_BYTES: integer (nullable = true)\n",
      " |-- RETRANSMITTED_OUT_PKTS: integer (nullable = true)\n",
      " |-- SRC_TO_DST_AVG_THROUGHPUT: long (nullable = true)\n",
      " |-- DST_TO_SRC_AVG_THROUGHPUT: long (nullable = true)\n",
      " |-- NUM_PKTS_UP_TO_128_BYTES: integer (nullable = true)\n",
      " |-- NUM_PKTS_128_TO_256_BYTES: integer (nullable = true)\n",
      " |-- NUM_PKTS_256_TO_512_BYTES: integer (nullable = true)\n",
      " |-- NUM_PKTS_512_TO_1024_BYTES: integer (nullable = true)\n",
      " |-- NUM_PKTS_1024_TO_1514_BYTES: integer (nullable = true)\n",
      " |-- TCP_WIN_MAX_IN: integer (nullable = true)\n",
      " |-- TCP_WIN_MAX_OUT: integer (nullable = true)\n",
      " |-- ICMP_TYPE: integer (nullable = true)\n",
      " |-- ICMP_IPV4_TYPE: integer (nullable = true)\n",
      " |-- DNS_QUERY_ID: integer (nullable = true)\n",
      " |-- DNS_QUERY_TYPE: integer (nullable = true)\n",
      " |-- DNS_TTL_ANSWER: integer (nullable = true)\n",
      " |-- FTP_COMMAND_RET_CODE: integer (nullable = true)\n",
      " |-- Label: integer (nullable = true)\n",
      " |-- Attack: string (nullable = true)\n",
      "\n",
      "root\n",
      " |-- IPV4_SRC_ADDR: string (nullable = true)\n",
      " |-- L4_SRC_PORT: integer (nullable = true)\n",
      " |-- IPV4_DST_ADDR: string (nullable = true)\n",
      " |-- L4_DST_PORT: integer (nullable = true)\n",
      " |-- PROTOCOL: integer (nullable = true)\n",
      " |-- L7_PROTO: double (nullable = true)\n",
      " |-- IN_BYTES: integer (nullable = true)\n",
      " |-- IN_PKTS: integer (nullable = true)\n",
      " |-- OUT_BYTES: integer (nullable = true)\n",
      " |-- OUT_PKTS: integer (nullable = true)\n",
      " |-- TCP_FLAGS: integer (nullable = true)\n",
      " |-- CLIENT_TCP_FLAGS: integer (nullable = true)\n",
      " |-- SERVER_TCP_FLAGS: integer (nullable = true)\n",
      " |-- FLOW_DURATION_MILLISECONDS: integer (nullable = true)\n",
      " |-- DURATION_IN: integer (nullable = true)\n",
      " |-- DURATION_OUT: integer (nullable = true)\n",
      " |-- MIN_TTL: integer (nullable = true)\n",
      " |-- MAX_TTL: integer (nullable = true)\n",
      " |-- LONGEST_FLOW_PKT: integer (nullable = true)\n",
      " |-- SHORTEST_FLOW_PKT: integer (nullable = true)\n",
      " |-- MIN_IP_PKT_LEN: integer (nullable = true)\n",
      " |-- MAX_IP_PKT_LEN: integer (nullable = true)\n",
      " |-- SRC_TO_DST_SECOND_BYTES: double (nullable = true)\n",
      " |-- DST_TO_SRC_SECOND_BYTES: double (nullable = true)\n",
      " |-- RETRANSMITTED_IN_BYTES: integer (nullable = true)\n",
      " |-- RETRANSMITTED_IN_PKTS: integer (nullable = true)\n",
      " |-- RETRANSMITTED_OUT_BYTES: integer (nullable = true)\n",
      " |-- RETRANSMITTED_OUT_PKTS: integer (nullable = true)\n",
      " |-- SRC_TO_DST_AVG_THROUGHPUT: long (nullable = true)\n",
      " |-- DST_TO_SRC_AVG_THROUGHPUT: long (nullable = true)\n",
      " |-- NUM_PKTS_UP_TO_128_BYTES: integer (nullable = true)\n",
      " |-- NUM_PKTS_128_TO_256_BYTES: integer (nullable = true)\n",
      " |-- NUM_PKTS_256_TO_512_BYTES: integer (nullable = true)\n",
      " |-- NUM_PKTS_512_TO_1024_BYTES: integer (nullable = true)\n",
      " |-- NUM_PKTS_1024_TO_1514_BYTES: integer (nullable = true)\n",
      " |-- TCP_WIN_MAX_IN: integer (nullable = true)\n",
      " |-- TCP_WIN_MAX_OUT: integer (nullable = true)\n",
      " |-- ICMP_TYPE: integer (nullable = true)\n",
      " |-- ICMP_IPV4_TYPE: integer (nullable = true)\n",
      " |-- DNS_QUERY_ID: integer (nullable = true)\n",
      " |-- DNS_QUERY_TYPE: integer (nullable = true)\n",
      " |-- DNS_TTL_ANSWER: integer (nullable = true)\n",
      " |-- FTP_COMMAND_RET_CODE: integer (nullable = true)\n",
      " |-- Label: integer (nullable = true)\n",
      " |-- Attack: string (nullable = true)\n",
      "\n"
     ]
    }
   ],
   "source": [
    "# Print the schema of the loaded data to confirm the data types of each column\n",
    "train_data.printSchema()\n",
    "test_data.printSchema()"
   ]
  },
  {
   "cell_type": "markdown",
   "metadata": {},
   "source": [
    "### Data Preprocessing and Exploratory Data Analysis (EDA)"
   ]
  },
  {
   "cell_type": "code",
   "execution_count": 5,
   "metadata": {},
   "outputs": [
    {
     "name": "stdout",
     "output_type": "stream",
     "text": [
      "+-------------+-----------+-------------+-----------+--------+--------+--------+-------+---------+--------+---------+----------------+----------------+--------------------------+-----------+------------+-------+-------+----------------+-----------------+--------------+--------------+-----------------------+-----------------------+----------------------+---------------------+-----------------------+----------------------+-------------------------+-------------------------+------------------------+-------------------------+-------------------------+--------------------------+---------------------------+--------------+---------------+---------+--------------+------------+--------------+--------------+--------------------+-----+------+\n",
      "|IPV4_SRC_ADDR|L4_SRC_PORT|IPV4_DST_ADDR|L4_DST_PORT|PROTOCOL|L7_PROTO|IN_BYTES|IN_PKTS|OUT_BYTES|OUT_PKTS|TCP_FLAGS|CLIENT_TCP_FLAGS|SERVER_TCP_FLAGS|FLOW_DURATION_MILLISECONDS|DURATION_IN|DURATION_OUT|MIN_TTL|MAX_TTL|LONGEST_FLOW_PKT|SHORTEST_FLOW_PKT|MIN_IP_PKT_LEN|MAX_IP_PKT_LEN|SRC_TO_DST_SECOND_BYTES|DST_TO_SRC_SECOND_BYTES|RETRANSMITTED_IN_BYTES|RETRANSMITTED_IN_PKTS|RETRANSMITTED_OUT_BYTES|RETRANSMITTED_OUT_PKTS|SRC_TO_DST_AVG_THROUGHPUT|DST_TO_SRC_AVG_THROUGHPUT|NUM_PKTS_UP_TO_128_BYTES|NUM_PKTS_128_TO_256_BYTES|NUM_PKTS_256_TO_512_BYTES|NUM_PKTS_512_TO_1024_BYTES|NUM_PKTS_1024_TO_1514_BYTES|TCP_WIN_MAX_IN|TCP_WIN_MAX_OUT|ICMP_TYPE|ICMP_IPV4_TYPE|DNS_QUERY_ID|DNS_QUERY_TYPE|DNS_TTL_ANSWER|FTP_COMMAND_RET_CODE|Label|Attack|\n",
      "+-------------+-----------+-------------+-----------+--------+--------+--------+-------+---------+--------+---------+----------------+----------------+--------------------------+-----------+------------+-------+-------+----------------+-----------------+--------------+--------------+-----------------------+-----------------------+----------------------+---------------------+-----------------------+----------------------+-------------------------+-------------------------+------------------------+-------------------------+-------------------------+--------------------------+---------------------------+--------------+---------------+---------+--------------+------------+--------------+--------------+--------------------+-----+------+\n",
      "|            0|          0|            0|          0|       0|       0|       0|      0|        0|       0|        0|               0|               0|                         0|          0|           0|      0|      0|               0|                0|             0|             0|                      0|                      0|                     0|                    0|                      0|                     0|                        0|                        0|                       0|                        0|                        0|                         0|                          0|             0|              0|        0|             0|           0|             0|             0|                   0|    0|     0|\n",
      "+-------------+-----------+-------------+-----------+--------+--------+--------+-------+---------+--------+---------+----------------+----------------+--------------------------+-----------+------------+-------+-------+----------------+-----------------+--------------+--------------+-----------------------+-----------------------+----------------------+---------------------+-----------------------+----------------------+-------------------------+-------------------------+------------------------+-------------------------+-------------------------+--------------------------+---------------------------+--------------+---------------+---------+--------------+------------+--------------+--------------+--------------------+-----+------+\n",
      "\n"
     ]
    }
   ],
   "source": [
    "# Identifying missing values\n",
    "from pyspark.sql.functions import col, count, when, isnan\n",
    "\n",
    "# Count nulls and NaNs in each column\n",
    "def count_missing(data):\n",
    "    data.select([count(when(col(c).isNull() | isnan(c), c)).alias(c) for c in data.columns]).show()\n",
    "\n",
    "count_missing(train_data)"
   ]
  },
  {
   "cell_type": "code",
   "execution_count": 6,
   "metadata": {},
   "outputs": [
    {
     "name": "stdout",
     "output_type": "stream",
     "text": [
      "+-------------+-----------+-------------+-----------+--------+--------+--------+-------+---------+--------+---------+----------------+----------------+--------------------------+-----------+------------+-------+-------+----------------+-----------------+--------------+--------------+-----------------------+-----------------------+----------------------+---------------------+-----------------------+----------------------+-------------------------+-------------------------+------------------------+-------------------------+-------------------------+--------------------------+---------------------------+--------------+---------------+---------+--------------+------------+--------------+--------------+--------------------+-----+------+\n",
      "|IPV4_SRC_ADDR|L4_SRC_PORT|IPV4_DST_ADDR|L4_DST_PORT|PROTOCOL|L7_PROTO|IN_BYTES|IN_PKTS|OUT_BYTES|OUT_PKTS|TCP_FLAGS|CLIENT_TCP_FLAGS|SERVER_TCP_FLAGS|FLOW_DURATION_MILLISECONDS|DURATION_IN|DURATION_OUT|MIN_TTL|MAX_TTL|LONGEST_FLOW_PKT|SHORTEST_FLOW_PKT|MIN_IP_PKT_LEN|MAX_IP_PKT_LEN|SRC_TO_DST_SECOND_BYTES|DST_TO_SRC_SECOND_BYTES|RETRANSMITTED_IN_BYTES|RETRANSMITTED_IN_PKTS|RETRANSMITTED_OUT_BYTES|RETRANSMITTED_OUT_PKTS|SRC_TO_DST_AVG_THROUGHPUT|DST_TO_SRC_AVG_THROUGHPUT|NUM_PKTS_UP_TO_128_BYTES|NUM_PKTS_128_TO_256_BYTES|NUM_PKTS_256_TO_512_BYTES|NUM_PKTS_512_TO_1024_BYTES|NUM_PKTS_1024_TO_1514_BYTES|TCP_WIN_MAX_IN|TCP_WIN_MAX_OUT|ICMP_TYPE|ICMP_IPV4_TYPE|DNS_QUERY_ID|DNS_QUERY_TYPE|DNS_TTL_ANSWER|FTP_COMMAND_RET_CODE|Label|Attack|\n",
      "+-------------+-----------+-------------+-----------+--------+--------+--------+-------+---------+--------+---------+----------------+----------------+--------------------------+-----------+------------+-------+-------+----------------+-----------------+--------------+--------------+-----------------------+-----------------------+----------------------+---------------------+-----------------------+----------------------+-------------------------+-------------------------+------------------------+-------------------------+-------------------------+--------------------------+---------------------------+--------------+---------------+---------+--------------+------------+--------------+--------------+--------------------+-----+------+\n",
      "|            0|          0|            0|          0|       0|       0|       0|      0|        0|       0|        0|               0|               0|                         0|          0|           0|      0|      0|               0|                0|             0|             0|                      0|                      0|                     0|                    0|                      0|                     0|                        0|                        0|                       0|                        0|                        0|                         0|                          0|             0|              0|        0|             0|           0|             0|             0|                   0|    0|     0|\n",
      "+-------------+-----------+-------------+-----------+--------+--------+--------+-------+---------+--------+---------+----------------+----------------+--------------------------+-----------+------------+-------+-------+----------------+-----------------+--------------+--------------+-----------------------+-----------------------+----------------------+---------------------+-----------------------+----------------------+-------------------------+-------------------------+------------------------+-------------------------+-------------------------+--------------------------+---------------------------+--------------+---------------+---------+--------------+------------+--------------+--------------+--------------------+-----+------+\n",
      "\n"
     ]
    }
   ],
   "source": [
    "# Identifying missing values\n",
    "from pyspark.sql.functions import col, count, when, isnan\n",
    "\n",
    "# Count nulls and NaNs in each column\n",
    "def count_missing(data):\n",
    "    data.select([count(when(col(c).isNull() | isnan(c), c)).alias(c) for c in data.columns]).show()\n",
    "\n",
    "count_missing(test_data)"
   ]
  },
  {
   "cell_type": "markdown",
   "metadata": {},
   "source": [
    "The dataset is clean and doesn't have any missing values, so there's no need for further cleaning."
   ]
  },
  {
   "cell_type": "markdown",
   "metadata": {},
   "source": [
    "#### Encoding\n",
    "On the dataset, which consists of network traffic data, several categorical variables could potentially benefit from encoding. The decision to apply encoding techniques depends on whether the variables are nominal (without an inherent order) or ordinal (with a specific order) and whether they are used as features in the model. \n",
    "\n",
    "After an understanding of data and the variables meaning, we considered some variables for encoding:\n",
    "- **IPV4_SRC_ADDR and IPV4_DST_ADDR** (Categorical nominal): These are IP addresses and typically should be treated as categorical.\n",
    "- **Attack** (categorical Nominal): In machine learning projects involving classification tasks, the target variable (also known as the label or response variable) is crucial as it's the outcome the model is trying to predict. On the project, the target variable consists of categorical data (e.g., text labels representing different classes), it needs to be converted into a numeric format. This conversion is essential because most machine learning algorithms require numeric input to perform calculations during model training.\n"
   ]
  },
  {
   "cell_type": "code",
   "execution_count": 17,
   "metadata": {},
   "outputs": [
    {
     "name": "stdout",
     "output_type": "stream",
     "text": [
      "+------------------+\n",
      "|Distinct_SRC_Count|\n",
      "+------------------+\n",
      "|18538             |\n",
      "+------------------+\n",
      "\n",
      "+-------------------+\n",
      "|Distinct_DST_Subnet|\n",
      "+-------------------+\n",
      "|6465               |\n",
      "+-------------------+\n",
      "\n"
     ]
    }
   ],
   "source": [
    "from pyspark.sql.functions import countDistinct\n",
    "\n",
    "# Count distinct values in IPV4_SRC_ADDR\n",
    "distinct_src_subnet_count = train_data.select(countDistinct(\"IPV4_SRC_ADDR\").alias(\"Distinct_SRC_Count\"))\n",
    "\n",
    "# Count distinct values in IPV4_DST_ADDR\n",
    "distinct_dst_subnet_count = train_data.select(countDistinct(\"IPV4_DST_ADDR\").alias(\"Distinct_DST_Subnet\"))\n",
    "\n",
    "# Show the results\n",
    "distinct_src_subnet_count.show(truncate=False)\n",
    "distinct_dst_subnet_count.show(truncate=False)"
   ]
  },
  {
   "cell_type": "markdown",
   "metadata": {},
   "source": [
    "Given the high number of distinct values in the IPV4_ADDR column, subnet segmentation was performed to facilitate more effective encoding. This approach reduces the granularity of the data, thereby simplifying the feature space without significantly compromising the informational value of the IP addresses. Segmentation enables us to manage the high cardinality of the IP addresses, which is critical for applying machine learning techniques efficiently and effectively. By categorizing the IP addresses into their respective subnets, we can capture essential network-level behaviors while avoiding the computational complexity associated with the vast number of unique full IP addresses."
   ]
  },
  {
   "cell_type": "code",
   "execution_count": 11,
   "metadata": {},
   "outputs": [
    {
     "name": "stdout",
     "output_type": "stream",
     "text": [
      "+-------------+--------------------+--------------+--------------------+\n",
      "|IPV4_SRC_ADDR|IPV4_SRC_ADDR_Subnet|IPV4_DST_ADDR |IPV4_DST_ADDR_Subnet|\n",
      "+-------------+--------------------+--------------+--------------------+\n",
      "|192.168.1.32 |192.168             |192.168.1.180 |192.168             |\n",
      "|192.168.1.30 |192.168             |192.168.1.194 |192.168             |\n",
      "|192.168.1.31 |192.168             |192.168.1.190 |192.168             |\n",
      "|192.168.1.32 |192.168             |192.168.1.195 |192.168             |\n",
      "|192.168.1.38 |192.168             |192.168.1.194 |192.168             |\n",
      "|192.168.1.31 |192.168             |192.168.1.193 |192.168             |\n",
      "|192.168.1.32 |192.168             |192.168.1.195 |192.168             |\n",
      "|192.168.1.32 |192.168             |192.168.1.190 |192.168             |\n",
      "|192.168.1.35 |192.168             |192.168.1.1   |192.168             |\n",
      "|192.168.1.30 |192.168             |192.168.1.195 |192.168             |\n",
      "|192.168.1.35 |192.168             |192.168.1.1   |192.168             |\n",
      "|192.168.1.152|192.168             |192.168.1.190 |192.168             |\n",
      "|192.168.1.31 |192.168             |192.168.1.1   |192.168             |\n",
      "|192.168.1.30 |192.168             |192.168.1.190 |192.168             |\n",
      "|192.168.1.31 |192.168             |18.184.104.180|18.184              |\n",
      "|192.168.1.33 |192.168             |192.168.1.190 |192.168             |\n",
      "|192.168.1.30 |192.168             |192.168.1.195 |192.168             |\n",
      "|192.168.1.30 |192.168             |192.168.1.152 |192.168             |\n",
      "|192.168.1.32 |192.168             |192.168.1.190 |192.168             |\n",
      "|192.168.1.39 |192.168             |192.168.1.193 |192.168             |\n",
      "+-------------+--------------------+--------------+--------------------+\n",
      "only showing top 20 rows\n",
      "\n"
     ]
    }
   ],
   "source": [
    "from pyspark.sql.functions import concat_ws, split\n",
    "\n",
    "# Add a new column for the subnet (first two octets) for source and destination IP addresses\n",
    "train_data = train_data.withColumn(\n",
    "    \"IPV4_SRC_ADDR_Subnet\",\n",
    "    concat_ws(\".\", split(col(\"IPV4_SRC_ADDR\"), \"\\\\.\")[0], split(col(\"IPV4_SRC_ADDR\"), \"\\\\.\")[1])\n",
    ")\n",
    "\n",
    "train_data = train_data.withColumn(\n",
    "    \"IPV4_DST_ADDR_Subnet\",\n",
    "    concat_ws(\".\", split(col(\"IPV4_DST_ADDR\"), \"\\\\.\")[0], split(col(\"IPV4_DST_ADDR\"), \"\\\\.\")[1])\n",
    ")\n",
    "\n",
    "# Show the new columns along with the original IP addresses\n",
    "train_data.select(\"IPV4_SRC_ADDR\", \"IPV4_SRC_ADDR_Subnet\", \"IPV4_DST_ADDR\", \"IPV4_DST_ADDR_Subnet\").show(truncate=False)\n"
   ]
  },
  {
   "cell_type": "code",
   "execution_count": 16,
   "metadata": {},
   "outputs": [
    {
     "name": "stdout",
     "output_type": "stream",
     "text": [
      "+-------------------------+\n",
      "|Distinct_SRC_Subnet_Count|\n",
      "+-------------------------+\n",
      "|15933                    |\n",
      "+-------------------------+\n",
      "\n",
      "+-------------------------+\n",
      "|Distinct_DST_Subnet_Count|\n",
      "+-------------------------+\n",
      "|2832                     |\n",
      "+-------------------------+\n",
      "\n"
     ]
    }
   ],
   "source": [
    "from pyspark.sql.functions import countDistinct\n",
    "\n",
    "# Count distinct values in IPV4_SRC_ADDR_Subnet\n",
    "distinct_src_subnet_count = train_data.select(countDistinct(\"IPV4_SRC_ADDR_Subnet\").alias(\"Distinct_SRC_Subnet_Count\"))\n",
    "\n",
    "# Count distinct values in IPV4_DST_ADDR_Subnet\n",
    "distinct_dst_subnet_count = train_data.select(countDistinct(\"IPV4_DST_ADDR_Subnet\").alias(\"Distinct_DST_Subnet_Count\"))\n",
    "\n",
    "# Show the results\n",
    "distinct_src_subnet_count.show(truncate=False)\n",
    "distinct_dst_subnet_count.show(truncate=False)"
   ]
  },
  {
   "cell_type": "markdown",
   "metadata": {},
   "source": [
    "- **Source IP Dimensionality:** The modest reduction in unique source subnets compared to the full source IP count suggests that the network traffic originates from a diverse set of locations or devices, with slightly clustered but still quite spread out origins. This might imply that any predictive modeling using source subnets as a feature would still need to handle a relatively high number of categories, potentially requiring further techniques to manage dimensionality or enhance interpretability.\n",
    "\n",
    "- **Destination IP Dimensionality:** The more significant reduction in unique destination subnets points to a higher level of concentration of network traffic towards certain destination networks or servers. For modeling purposes, this could mean that destination subnet could be a more impactful feature, providing stronger predictive signals with fewer categories, thus improving model performance and simplicity.\n",
    "\n",
    "Given the results, for destination subnets, straightforward categorical encoding methods like one-hot encoding might be feasible given the reduced number of unique values. For source subnets, considering the still high number of unique categories, methods like feature hashing or embedding might be more appropriate to prevent models from becoming too complex."
   ]
  },
  {
   "cell_type": "code",
   "execution_count": 18,
   "metadata": {},
   "outputs": [
    {
     "name": "stdout",
     "output_type": "stream",
     "text": [
      "+--------------------+------------------+\n",
      "|IPV4_DST_ADDR_Subnet|DST_Subnet_Encoded|\n",
      "+--------------------+------------------+\n",
      "|192.168             |(2831,[0],[1.0])  |\n",
      "|192.168             |(2831,[0],[1.0])  |\n",
      "|192.168             |(2831,[0],[1.0])  |\n",
      "|192.168             |(2831,[0],[1.0])  |\n",
      "|192.168             |(2831,[0],[1.0])  |\n",
      "|192.168             |(2831,[0],[1.0])  |\n",
      "|192.168             |(2831,[0],[1.0])  |\n",
      "|192.168             |(2831,[0],[1.0])  |\n",
      "|192.168             |(2831,[0],[1.0])  |\n",
      "|192.168             |(2831,[0],[1.0])  |\n",
      "|192.168             |(2831,[0],[1.0])  |\n",
      "|192.168             |(2831,[0],[1.0])  |\n",
      "|192.168             |(2831,[0],[1.0])  |\n",
      "|192.168             |(2831,[0],[1.0])  |\n",
      "|18.184              |(2831,[5],[1.0])  |\n",
      "|192.168             |(2831,[0],[1.0])  |\n",
      "|192.168             |(2831,[0],[1.0])  |\n",
      "|192.168             |(2831,[0],[1.0])  |\n",
      "|192.168             |(2831,[0],[1.0])  |\n",
      "|192.168             |(2831,[0],[1.0])  |\n",
      "+--------------------+------------------+\n",
      "only showing top 20 rows\n",
      "\n"
     ]
    }
   ],
   "source": [
    "# Encoding IPV4_DST_ADDR_Subnet\n",
    "from pyspark.ml.feature import StringIndexer, OneHotEncoder\n",
    "from pyspark.ml import Pipeline\n",
    "\n",
    "# Index the destination subnet column\n",
    "dst_indexer = StringIndexer(inputCol=\"IPV4_DST_ADDR_Subnet\", outputCol=\"DST_Subnet_Index\")\n",
    "\n",
    "# Apply OneHotEncoder to the indexed column\n",
    "dst_encoder = OneHotEncoder(inputCols=[\"DST_Subnet_Index\"], outputCols=[\"DST_Subnet_Encoded\"])\n",
    "\n",
    "# Build the pipeline\n",
    "dst_pipeline = Pipeline(stages=[dst_indexer, dst_encoder])\n",
    "\n",
    "# Fit and transform the data\n",
    "dst_model = dst_pipeline.fit(train_data)\n",
    "encoded_dst_data = dst_model.transform(train_data)\n",
    "\n",
    "# Show some of the results to verify\n",
    "encoded_dst_data.select(\"IPV4_DST_ADDR_Subnet\", \"DST_Subnet_Encoded\").show(truncate=False)\n"
   ]
  },
  {
   "cell_type": "code",
   "execution_count": 19,
   "metadata": {},
   "outputs": [
    {
     "name": "stdout",
     "output_type": "stream",
     "text": [
      "+--------------------+------------------+\n",
      "|IPV4_SRC_ADDR_Subnet|SRC_Subnet_Hashed |\n",
      "+--------------------+------------------+\n",
      "|192.168             |(1024,[906],[1.0])|\n",
      "|192.168             |(1024,[906],[1.0])|\n",
      "|192.168             |(1024,[906],[1.0])|\n",
      "|192.168             |(1024,[906],[1.0])|\n",
      "|192.168             |(1024,[906],[1.0])|\n",
      "|192.168             |(1024,[906],[1.0])|\n",
      "|192.168             |(1024,[906],[1.0])|\n",
      "|192.168             |(1024,[906],[1.0])|\n",
      "|192.168             |(1024,[906],[1.0])|\n",
      "|192.168             |(1024,[906],[1.0])|\n",
      "|192.168             |(1024,[906],[1.0])|\n",
      "|192.168             |(1024,[906],[1.0])|\n",
      "|192.168             |(1024,[906],[1.0])|\n",
      "|192.168             |(1024,[906],[1.0])|\n",
      "|192.168             |(1024,[906],[1.0])|\n",
      "|192.168             |(1024,[906],[1.0])|\n",
      "|192.168             |(1024,[906],[1.0])|\n",
      "|192.168             |(1024,[906],[1.0])|\n",
      "|192.168             |(1024,[906],[1.0])|\n",
      "|192.168             |(1024,[906],[1.0])|\n",
      "+--------------------+------------------+\n",
      "only showing top 20 rows\n",
      "\n"
     ]
    }
   ],
   "source": [
    "# Encoding IPV4_SRC_ADDR_Subnet\n",
    "from pyspark.ml.feature import FeatureHasher\n",
    "\n",
    "# Apply FeatureHasher to the source subnet column\n",
    "src_hasher = FeatureHasher(inputCols=[\"IPV4_SRC_ADDR_Subnet\"], outputCol=\"SRC_Subnet_Hashed\", numFeatures=1024)  # Number of features can be tuned\n",
    "\n",
    "# Transform the data\n",
    "hashed_src_data = src_hasher.transform(train_data)\n",
    "\n",
    "# Show some of the results to verify\n",
    "hashed_src_data.select(\"IPV4_SRC_ADDR_Subnet\", \"SRC_Subnet_Hashed\").show(truncate=False)"
   ]
  },
  {
   "cell_type": "code",
   "execution_count": 20,
   "metadata": {},
   "outputs": [
    {
     "name": "stdout",
     "output_type": "stream",
     "text": [
      "+---------+-----+\n",
      "|Attack   |label|\n",
      "+---------+-----+\n",
      "|scanning |1.0  |\n",
      "|scanning |1.0  |\n",
      "|Benign   |0.0  |\n",
      "|scanning |1.0  |\n",
      "|ddos     |3.0  |\n",
      "|Benign   |0.0  |\n",
      "|Benign   |0.0  |\n",
      "|password |4.0  |\n",
      "|xss      |2.0  |\n",
      "|Benign   |0.0  |\n",
      "|xss      |2.0  |\n",
      "|Benign   |0.0  |\n",
      "|dos      |5.0  |\n",
      "|scanning |1.0  |\n",
      "|injection|6.0  |\n",
      "|password |4.0  |\n",
      "|Benign   |0.0  |\n",
      "|scanning |1.0  |\n",
      "|Benign   |0.0  |\n",
      "|dos      |5.0  |\n",
      "+---------+-----+\n",
      "only showing top 20 rows\n",
      "\n"
     ]
    }
   ],
   "source": [
    "#Encoding target variable\n",
    "\n",
    "# Initialize the StringIndexer\n",
    "indexer = StringIndexer(inputCol=\"Attack\", outputCol=\"label\")\n",
    "\n",
    "# Fit the indexer to the data\n",
    "model = indexer.fit(train_data)\n",
    "\n",
    "# Transform the data to include the numeric labels\n",
    "train_data = model.transform(train_data)\n",
    "\n",
    "# Show some of the transformed data\n",
    "train_data.select(\"Attack\", \"label\").show(truncate=False)"
   ]
  },
  {
   "cell_type": "markdown",
   "metadata": {},
   "source": [
    "To ensure the integrity of our model's evaluation, transformations such as the encodings for Attack, IPV4_SRC_ADDR_Subnet, and IPV4_DST_ADDR_Subnet are meticulously applied to the test set using a specific and consistent process. This process involves applying only the transformation rules and parameters learned from the training set to the test set, without re-fitting or adjusting these based on the test data. Such an approach prevents data leakage by ensuring that no information from the test set influences the transformation process. This standardized application of transformations guarantees that our model assessments are both reliable and replicable."
   ]
  },
  {
   "cell_type": "code",
   "execution_count": 21,
   "metadata": {},
   "outputs": [
    {
     "name": "stdout",
     "output_type": "stream",
     "text": [
      "+-------------+--------------------+--------------+--------------------+\n",
      "|IPV4_SRC_ADDR|IPV4_SRC_ADDR_Subnet|IPV4_DST_ADDR |IPV4_DST_ADDR_Subnet|\n",
      "+-------------+--------------------+--------------+--------------------+\n",
      "|192.168.1.32 |192.168             |192.168.1.195 |192.168             |\n",
      "|192.168.1.30 |192.168             |192.168.1.184 |192.168             |\n",
      "|192.168.1.30 |192.168             |192.168.1.180 |192.168             |\n",
      "|192.168.1.35 |192.168             |52.28.231.150 |52.28               |\n",
      "|192.168.1.30 |192.168             |192.168.1.49  |192.168             |\n",
      "|192.168.1.31 |192.168             |192.168.1.49  |192.168             |\n",
      "|192.168.1.31 |192.168             |192.168.1.184 |192.168             |\n",
      "|192.168.1.30 |192.168             |192.168.1.180 |192.168             |\n",
      "|192.168.1.32 |192.168             |192.168.1.190 |192.168             |\n",
      "|192.168.1.30 |192.168             |192.168.1.184 |192.168             |\n",
      "|192.168.1.38 |192.168             |192.168.1.79  |192.168             |\n",
      "|192.168.1.30 |192.168             |192.168.1.195 |192.168             |\n",
      "|192.168.1.31 |192.168             |192.168.1.194 |192.168             |\n",
      "|192.168.1.31 |192.168             |192.168.1.180 |192.168             |\n",
      "|192.168.1.31 |192.168             |192.168.35.150|192.168             |\n",
      "|192.168.1.32 |192.168             |192.168.1.195 |192.168             |\n",
      "|192.168.1.31 |192.168             |192.168.1.184 |192.168             |\n",
      "|192.168.1.32 |192.168             |192.168.1.193 |192.168             |\n",
      "|192.168.1.35 |192.168             |192.168.1.1   |192.168             |\n",
      "|192.168.1.31 |192.168             |192.168.1.184 |192.168             |\n",
      "+-------------+--------------------+--------------+--------------------+\n",
      "only showing top 20 rows\n",
      "\n"
     ]
    }
   ],
   "source": [
    "# Add a new column for the subnet (first two octets) for source and destination IP addresses in the test data\n",
    "test_data = test_data.withColumn(\n",
    "    \"IPV4_SRC_ADDR_Subnet\",\n",
    "    concat_ws(\".\", split(col(\"IPV4_SRC_ADDR\"), \"\\\\.\")[0], split(col(\"IPV4_SRC_ADDR\"), \"\\\\.\")[1])\n",
    ")\n",
    "\n",
    "test_data = test_data.withColumn(\n",
    "    \"IPV4_DST_ADDR_Subnet\",\n",
    "    concat_ws(\".\", split(col(\"IPV4_DST_ADDR\"), \"\\\\.\")[0], split(col(\"IPV4_DST_ADDR\"), \"\\\\.\")[1])\n",
    ")\n",
    "\n",
    "# Show the new columns along with the original IP addresses to verify the transformation\n",
    "test_data.select(\"IPV4_SRC_ADDR\", \"IPV4_SRC_ADDR_Subnet\", \"IPV4_DST_ADDR\", \"IPV4_DST_ADDR_Subnet\").show(truncate=False)"
   ]
  },
  {
   "cell_type": "code",
   "execution_count": 22,
   "metadata": {},
   "outputs": [
    {
     "name": "stdout",
     "output_type": "stream",
     "text": [
      "+--------------------+------------------+\n",
      "|IPV4_DST_ADDR_Subnet|DST_Subnet_Encoded|\n",
      "+--------------------+------------------+\n",
      "|192.168             |(2831,[0],[1.0])  |\n",
      "|192.168             |(2831,[0],[1.0])  |\n",
      "|192.168             |(2831,[0],[1.0])  |\n",
      "|52.28               |(2831,[2],[1.0])  |\n",
      "|192.168             |(2831,[0],[1.0])  |\n",
      "|192.168             |(2831,[0],[1.0])  |\n",
      "|192.168             |(2831,[0],[1.0])  |\n",
      "|192.168             |(2831,[0],[1.0])  |\n",
      "|192.168             |(2831,[0],[1.0])  |\n",
      "|192.168             |(2831,[0],[1.0])  |\n",
      "|192.168             |(2831,[0],[1.0])  |\n",
      "|192.168             |(2831,[0],[1.0])  |\n",
      "|192.168             |(2831,[0],[1.0])  |\n",
      "|192.168             |(2831,[0],[1.0])  |\n",
      "|192.168             |(2831,[0],[1.0])  |\n",
      "|192.168             |(2831,[0],[1.0])  |\n",
      "|192.168             |(2831,[0],[1.0])  |\n",
      "|192.168             |(2831,[0],[1.0])  |\n",
      "|192.168             |(2831,[0],[1.0])  |\n",
      "|192.168             |(2831,[0],[1.0])  |\n",
      "+--------------------+------------------+\n",
      "only showing top 20 rows\n",
      "\n"
     ]
    }
   ],
   "source": [
    "# Apply the destination subnet encoding to the test data\n",
    "encoded_dst_test_data = dst_model.transform(test_data)\n",
    "\n",
    "# Show some of the transformed test data to verify\n",
    "encoded_dst_test_data.select(\"IPV4_DST_ADDR_Subnet\", \"DST_Subnet_Encoded\").show(truncate=False)"
   ]
  },
  {
   "cell_type": "code",
   "execution_count": 23,
   "metadata": {},
   "outputs": [
    {
     "name": "stdout",
     "output_type": "stream",
     "text": [
      "+--------------------+------------------+\n",
      "|IPV4_SRC_ADDR_Subnet|SRC_Subnet_Hashed |\n",
      "+--------------------+------------------+\n",
      "|192.168             |(1024,[906],[1.0])|\n",
      "|192.168             |(1024,[906],[1.0])|\n",
      "|192.168             |(1024,[906],[1.0])|\n",
      "|192.168             |(1024,[906],[1.0])|\n",
      "|192.168             |(1024,[906],[1.0])|\n",
      "|192.168             |(1024,[906],[1.0])|\n",
      "|192.168             |(1024,[906],[1.0])|\n",
      "|192.168             |(1024,[906],[1.0])|\n",
      "|192.168             |(1024,[906],[1.0])|\n",
      "|192.168             |(1024,[906],[1.0])|\n",
      "|192.168             |(1024,[906],[1.0])|\n",
      "|192.168             |(1024,[906],[1.0])|\n",
      "|192.168             |(1024,[906],[1.0])|\n",
      "|192.168             |(1024,[906],[1.0])|\n",
      "|192.168             |(1024,[906],[1.0])|\n",
      "|192.168             |(1024,[906],[1.0])|\n",
      "|192.168             |(1024,[906],[1.0])|\n",
      "|192.168             |(1024,[906],[1.0])|\n",
      "|192.168             |(1024,[906],[1.0])|\n",
      "|192.168             |(1024,[906],[1.0])|\n",
      "+--------------------+------------------+\n",
      "only showing top 20 rows\n",
      "\n"
     ]
    }
   ],
   "source": [
    "# Apply the FeatureHasher to the test data for source subnet\n",
    "hashed_src_test_data = src_hasher.transform(test_data)\n",
    "\n",
    "# Show some of the transformed test data to verify\n",
    "hashed_src_test_data.select(\"IPV4_SRC_ADDR_Subnet\", \"SRC_Subnet_Hashed\").show(truncate=False)"
   ]
  },
  {
   "cell_type": "code",
   "execution_count": 24,
   "metadata": {},
   "outputs": [
    {
     "name": "stdout",
     "output_type": "stream",
     "text": [
      "+--------+-----+\n",
      "|Attack  |label|\n",
      "+--------+-----+\n",
      "|password|4.0  |\n",
      "|ddos    |3.0  |\n",
      "|scanning|1.0  |\n",
      "|xss     |2.0  |\n",
      "|Benign  |0.0  |\n",
      "|Benign  |0.0  |\n",
      "|ddos    |3.0  |\n",
      "|scanning|1.0  |\n",
      "|password|4.0  |\n",
      "|ddos    |3.0  |\n",
      "|Benign  |0.0  |\n",
      "|Benign  |0.0  |\n",
      "|ddos    |3.0  |\n",
      "|Benign  |0.0  |\n",
      "|scanning|1.0  |\n",
      "|password|4.0  |\n",
      "|ddos    |3.0  |\n",
      "|Benign  |0.0  |\n",
      "|xss     |2.0  |\n",
      "|ddos    |3.0  |\n",
      "+--------+-----+\n",
      "only showing top 20 rows\n",
      "\n"
     ]
    }
   ],
   "source": [
    "# Apply the StringIndexer transformation to the test data\n",
    "test_data = model.transform(test_data)\n",
    "\n",
    "# Show some of the transformed test data to verify\n",
    "test_data.select(\"Attack\", \"label\").show(truncate=False)"
   ]
  },
  {
   "cell_type": "code",
   "execution_count": null,
   "metadata": {},
   "outputs": [],
   "source": []
  }
 ],
 "metadata": {
  "kernelspec": {
   "display_name": "vscode_pyspark",
   "language": "python",
   "name": "vscode_pyspark"
  },
  "language_info": {
   "codemirror_mode": {
    "name": "ipython",
    "version": 3
   },
   "file_extension": ".py",
   "mimetype": "text/x-python",
   "name": "python",
   "nbconvert_exporter": "python",
   "pygments_lexer": "ipython3",
   "version": "3.11.9"
  }
 },
 "nbformat": 4,
 "nbformat_minor": 2
}
