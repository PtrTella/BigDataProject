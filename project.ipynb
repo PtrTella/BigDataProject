{
 "cells": [
  {
   "cell_type": "code",
   "execution_count": 1,
   "metadata": {},
   "outputs": [
    {
     "name": "stdout",
     "output_type": "stream",
     "text": [
      "3.5.1\n"
     ]
    }
   ],
   "source": [
    "# check if pyspark works\n",
    "import pyspark\n",
    "print(pyspark.__version__)"
   ]
  },
  {
   "cell_type": "code",
   "execution_count": 2,
   "metadata": {},
   "outputs": [],
   "source": [
    "from pyspark.sql import SparkSession\n",
    "\n",
    "# Start spark session\n",
    "spark = SparkSession.builder \\\n",
    "    .appName(\"Multiclass classification IoT\") \\\n",
    "    .getOrCreate()\n",
    "\n",
    "# Load test data\n",
    "test_data = spark.read.csv(r\"./dataset/NF-ToN-IoT-v2-test.csv\", header=True, inferSchema=True)\n",
    "\n",
    "# Load train data\n",
    "train_data = spark.read.csv(r\"./dataset/NF-ToN-IoT-v2-train.csv\", header=True, inferSchema=True)"
   ]
  },
  {
   "cell_type": "code",
   "execution_count": 3,
   "metadata": {},
   "outputs": [
    {
     "name": "stdout",
     "output_type": "stream",
     "text": [
      "+-------------+-----------+-------------+-----------+--------+--------+--------+-------+---------+--------+---------+----------------+----------------+--------------------------+-----------+------------+-------+-------+----------------+-----------------+--------------+--------------+-----------------------+-----------------------+----------------------+---------------------+-----------------------+----------------------+-------------------------+-------------------------+------------------------+-------------------------+-------------------------+--------------------------+---------------------------+--------------+---------------+---------+--------------+------------+--------------+--------------+--------------------+-----+--------+\n",
      "|IPV4_SRC_ADDR|L4_SRC_PORT|IPV4_DST_ADDR|L4_DST_PORT|PROTOCOL|L7_PROTO|IN_BYTES|IN_PKTS|OUT_BYTES|OUT_PKTS|TCP_FLAGS|CLIENT_TCP_FLAGS|SERVER_TCP_FLAGS|FLOW_DURATION_MILLISECONDS|DURATION_IN|DURATION_OUT|MIN_TTL|MAX_TTL|LONGEST_FLOW_PKT|SHORTEST_FLOW_PKT|MIN_IP_PKT_LEN|MAX_IP_PKT_LEN|SRC_TO_DST_SECOND_BYTES|DST_TO_SRC_SECOND_BYTES|RETRANSMITTED_IN_BYTES|RETRANSMITTED_IN_PKTS|RETRANSMITTED_OUT_BYTES|RETRANSMITTED_OUT_PKTS|SRC_TO_DST_AVG_THROUGHPUT|DST_TO_SRC_AVG_THROUGHPUT|NUM_PKTS_UP_TO_128_BYTES|NUM_PKTS_128_TO_256_BYTES|NUM_PKTS_256_TO_512_BYTES|NUM_PKTS_512_TO_1024_BYTES|NUM_PKTS_1024_TO_1514_BYTES|TCP_WIN_MAX_IN|TCP_WIN_MAX_OUT|ICMP_TYPE|ICMP_IPV4_TYPE|DNS_QUERY_ID|DNS_QUERY_TYPE|DNS_TTL_ANSWER|FTP_COMMAND_RET_CODE|Label|  Attack|\n",
      "+-------------+-----------+-------------+-----------+--------+--------+--------+-------+---------+--------+---------+----------------+----------------+--------------------------+-----------+------------+-------+-------+----------------+-----------------+--------------+--------------+-----------------------+-----------------------+----------------------+---------------------+-----------------------+----------------------+-------------------------+-------------------------+------------------------+-------------------------+-------------------------+--------------------------+---------------------------+--------------+---------------+---------+--------------+------------+--------------+--------------+--------------------+-----+--------+\n",
      "| 192.168.1.32|      46696|192.168.1.180|      17288|       6|     0.0|      48|      1|        0|       0|        2|               2|               0|                         0|          0|           0|      0|      0|              48|               48|             0|            48|                   48.0|                    0.0|                     0|                    0|                      0|                     0|                   384000|                        0|                       1|                        0|                        0|                         0|                          0|          4096|              0|        0|             0|           0|             0|             0|                   0|    1|scanning|\n",
      "| 192.168.1.30|      56607|192.168.1.194|      15632|       6|     0.0|      48|      1|       40|       1|       22|               2|              20|                         0|          0|           0|      0|      0|              48|               40|            40|            48|                   48.0|                   40.0|                     0|                    0|                      0|                     0|                   384000|                   320000|                       2|                        0|                        0|                         0|                          0|          4096|              0|        0|             0|           0|             0|             0|                   0|    1|scanning|\n",
      "| 192.168.1.31|      42103|192.168.1.190|       2004|       6|     0.0|      44|      1|       40|       1|       22|               2|              20|                         0|          0|           0|      0|      0|              44|               40|            40|            44|                   44.0|                   40.0|                     0|                    0|                      0|                     0|                   352000|                   320000|                       2|                        0|                        0|                         0|                          0|          1024|              0|        0|             0|           0|             0|             0|                   0|    0|  Benign|\n",
      "| 192.168.1.32|      52898|192.168.1.195|      52878|       6|     0.0|      48|      1|        0|       0|        2|               2|               0|                         0|          0|           0|      0|      0|              48|               48|             0|            48|                   48.0|                    0.0|                     0|                    0|                      0|                     0|                   384000|                        0|                       1|                        0|                        0|                         0|                          0|          4096|              0|        0|             0|           0|             0|             0|                   0|    1|scanning|\n",
      "| 192.168.1.38|      59700|192.168.1.194|         80|       6|     7.0|     268|      5|      240|       4|       18|              18|              18|                   4294951|         16|          16|     64|     64|              60|               52|            52|            60|                  268.0|                  240.0|                     0|                    0|                      0|                     0|                   120000|                   112000|                       9|                        0|                        0|                         0|                          0|         29200|           5792|        0|             0|           0|             0|             0|                   0|    1|    ddos|\n",
      "+-------------+-----------+-------------+-----------+--------+--------+--------+-------+---------+--------+---------+----------------+----------------+--------------------------+-----------+------------+-------+-------+----------------+-----------------+--------------+--------------+-----------------------+-----------------------+----------------------+---------------------+-----------------------+----------------------+-------------------------+-------------------------+------------------------+-------------------------+-------------------------+--------------------------+---------------------------+--------------+---------------+---------+--------------+------------+--------------+--------------+--------------------+-----+--------+\n",
      "only showing top 5 rows\n",
      "\n",
      "+-------------+-----------+-------------+-----------+--------+--------+--------+-------+---------+--------+---------+----------------+----------------+--------------------------+-----------+------------+-------+-------+----------------+-----------------+--------------+--------------+-----------------------+-----------------------+----------------------+---------------------+-----------------------+----------------------+-------------------------+-------------------------+------------------------+-------------------------+-------------------------+--------------------------+---------------------------+--------------+---------------+---------+--------------+------------+--------------+--------------+--------------------+-----+--------+\n",
      "|IPV4_SRC_ADDR|L4_SRC_PORT|IPV4_DST_ADDR|L4_DST_PORT|PROTOCOL|L7_PROTO|IN_BYTES|IN_PKTS|OUT_BYTES|OUT_PKTS|TCP_FLAGS|CLIENT_TCP_FLAGS|SERVER_TCP_FLAGS|FLOW_DURATION_MILLISECONDS|DURATION_IN|DURATION_OUT|MIN_TTL|MAX_TTL|LONGEST_FLOW_PKT|SHORTEST_FLOW_PKT|MIN_IP_PKT_LEN|MAX_IP_PKT_LEN|SRC_TO_DST_SECOND_BYTES|DST_TO_SRC_SECOND_BYTES|RETRANSMITTED_IN_BYTES|RETRANSMITTED_IN_PKTS|RETRANSMITTED_OUT_BYTES|RETRANSMITTED_OUT_PKTS|SRC_TO_DST_AVG_THROUGHPUT|DST_TO_SRC_AVG_THROUGHPUT|NUM_PKTS_UP_TO_128_BYTES|NUM_PKTS_128_TO_256_BYTES|NUM_PKTS_256_TO_512_BYTES|NUM_PKTS_512_TO_1024_BYTES|NUM_PKTS_1024_TO_1514_BYTES|TCP_WIN_MAX_IN|TCP_WIN_MAX_OUT|ICMP_TYPE|ICMP_IPV4_TYPE|DNS_QUERY_ID|DNS_QUERY_TYPE|DNS_TTL_ANSWER|FTP_COMMAND_RET_CODE|Label|  Attack|\n",
      "+-------------+-----------+-------------+-----------+--------+--------+--------+-------+---------+--------+---------+----------------+----------------+--------------------------+-----------+------------+-------+-------+----------------+-----------------+--------------+--------------+-----------------------+-----------------------+----------------------+---------------------+-----------------------+----------------------+-------------------------+-------------------------+------------------------+-------------------------+-------------------------+--------------------------+---------------------------+--------------+---------------+---------+--------------+------------+--------------+--------------+--------------------+-----+--------+\n",
      "| 192.168.1.32|      58592|192.168.1.195|         80|       6|     7.0|     661|     10|     2234|       8|       27|              27|              27|                   4294733|        234|         234|     64|     64|            1500|               40|            40|          1500|                  661.0|                 2234.0|                     0|                    0|                      0|                     0|                    16000|                    72000|                      15|                        0|                        2|                         0|                          1|         29200|          65535|        0|             0|           0|             0|             0|                   0|    1|password|\n",
      "| 192.168.1.30|      41436|192.168.1.184|        443|       6|    91.0|     112|      2|      112|       2|       19|              18|              19|                   4294904|          0|          63|     64|     64|              60|               52|            52|            60|                  112.0|                  112.0|                     0|                    0|                      0|                     0|                   896000|                     8000|                       4|                        0|                        0|                         0|                          0|         29200|          28960|        0|             0|           0|             0|             0|                   0|    1|    ddos|\n",
      "| 192.168.1.30|      32374|192.168.1.180|      25720|       6|     0.0|      48|      1|        0|       0|        2|               2|               0|                         0|          0|           0|      0|      0|              48|               48|             0|            48|                   48.0|                    0.0|                     0|                    0|                      0|                     0|                   384000|                        0|                       1|                        0|                        0|                         0|                          0|          4096|              0|        0|             0|           0|             0|             0|                   0|    1|scanning|\n",
      "| 192.168.1.35|      53904|52.28.231.150|         80|       6|   7.178|    4106|      8|     2132|       7|       27|              27|              27|                         0|          0|           0|     64|     64|            1500|               52|            52|          1500|                 4106.0|                 2132.0|                     0|                    0|                      0|                     0|                 32848000|                 17056000|                      10|                        0|                        1|                         1|                          3|         29200|          26847|        0|             0|           0|             0|             0|                   0|    1|     xss|\n",
      "| 192.168.1.30|      42453| 192.168.1.49|       5544|       6|     0.0|      44|      1|        0|       0|        2|               2|               0|                         0|          0|           0|      0|      0|              44|               44|             0|            44|                   44.0|                    0.0|                     0|                    0|                      0|                     0|                   352000|                        0|                       1|                        0|                        0|                         0|                          0|          1024|              0|        0|             0|           0|             0|             0|                   0|    0|  Benign|\n",
      "+-------------+-----------+-------------+-----------+--------+--------+--------+-------+---------+--------+---------+----------------+----------------+--------------------------+-----------+------------+-------+-------+----------------+-----------------+--------------+--------------+-----------------------+-----------------------+----------------------+---------------------+-----------------------+----------------------+-------------------------+-------------------------+------------------------+-------------------------+-------------------------+--------------------------+---------------------------+--------------+---------------+---------+--------------+------------+--------------+--------------+--------------------+-----+--------+\n",
      "only showing top 5 rows\n",
      "\n"
     ]
    }
   ],
   "source": [
    "# Display the first few rows of the training dataset to verify it's loaded correctly\n",
    "train_data.show(5)\n",
    "\n",
    "# Display the first few rows of the testing dataset to verify it's loaded correctly\n",
    "test_data.show(5)"
   ]
  },
  {
   "cell_type": "code",
   "execution_count": 4,
   "metadata": {},
   "outputs": [
    {
     "name": "stdout",
     "output_type": "stream",
     "text": [
      "root\n",
      " |-- IPV4_SRC_ADDR: string (nullable = true)\n",
      " |-- L4_SRC_PORT: integer (nullable = true)\n",
      " |-- IPV4_DST_ADDR: string (nullable = true)\n",
      " |-- L4_DST_PORT: integer (nullable = true)\n",
      " |-- PROTOCOL: integer (nullable = true)\n",
      " |-- L7_PROTO: double (nullable = true)\n",
      " |-- IN_BYTES: integer (nullable = true)\n",
      " |-- IN_PKTS: integer (nullable = true)\n",
      " |-- OUT_BYTES: integer (nullable = true)\n",
      " |-- OUT_PKTS: integer (nullable = true)\n",
      " |-- TCP_FLAGS: integer (nullable = true)\n",
      " |-- CLIENT_TCP_FLAGS: integer (nullable = true)\n",
      " |-- SERVER_TCP_FLAGS: integer (nullable = true)\n",
      " |-- FLOW_DURATION_MILLISECONDS: integer (nullable = true)\n",
      " |-- DURATION_IN: integer (nullable = true)\n",
      " |-- DURATION_OUT: integer (nullable = true)\n",
      " |-- MIN_TTL: integer (nullable = true)\n",
      " |-- MAX_TTL: integer (nullable = true)\n",
      " |-- LONGEST_FLOW_PKT: integer (nullable = true)\n",
      " |-- SHORTEST_FLOW_PKT: integer (nullable = true)\n",
      " |-- MIN_IP_PKT_LEN: integer (nullable = true)\n",
      " |-- MAX_IP_PKT_LEN: integer (nullable = true)\n",
      " |-- SRC_TO_DST_SECOND_BYTES: double (nullable = true)\n",
      " |-- DST_TO_SRC_SECOND_BYTES: double (nullable = true)\n",
      " |-- RETRANSMITTED_IN_BYTES: integer (nullable = true)\n",
      " |-- RETRANSMITTED_IN_PKTS: integer (nullable = true)\n",
      " |-- RETRANSMITTED_OUT_BYTES: integer (nullable = true)\n",
      " |-- RETRANSMITTED_OUT_PKTS: integer (nullable = true)\n",
      " |-- SRC_TO_DST_AVG_THROUGHPUT: long (nullable = true)\n",
      " |-- DST_TO_SRC_AVG_THROUGHPUT: long (nullable = true)\n",
      " |-- NUM_PKTS_UP_TO_128_BYTES: integer (nullable = true)\n",
      " |-- NUM_PKTS_128_TO_256_BYTES: integer (nullable = true)\n",
      " |-- NUM_PKTS_256_TO_512_BYTES: integer (nullable = true)\n",
      " |-- NUM_PKTS_512_TO_1024_BYTES: integer (nullable = true)\n",
      " |-- NUM_PKTS_1024_TO_1514_BYTES: integer (nullable = true)\n",
      " |-- TCP_WIN_MAX_IN: integer (nullable = true)\n",
      " |-- TCP_WIN_MAX_OUT: integer (nullable = true)\n",
      " |-- ICMP_TYPE: integer (nullable = true)\n",
      " |-- ICMP_IPV4_TYPE: integer (nullable = true)\n",
      " |-- DNS_QUERY_ID: integer (nullable = true)\n",
      " |-- DNS_QUERY_TYPE: integer (nullable = true)\n",
      " |-- DNS_TTL_ANSWER: integer (nullable = true)\n",
      " |-- FTP_COMMAND_RET_CODE: integer (nullable = true)\n",
      " |-- Label: integer (nullable = true)\n",
      " |-- Attack: string (nullable = true)\n",
      "\n",
      "root\n",
      " |-- IPV4_SRC_ADDR: string (nullable = true)\n",
      " |-- L4_SRC_PORT: integer (nullable = true)\n",
      " |-- IPV4_DST_ADDR: string (nullable = true)\n",
      " |-- L4_DST_PORT: integer (nullable = true)\n",
      " |-- PROTOCOL: integer (nullable = true)\n",
      " |-- L7_PROTO: double (nullable = true)\n",
      " |-- IN_BYTES: integer (nullable = true)\n",
      " |-- IN_PKTS: integer (nullable = true)\n",
      " |-- OUT_BYTES: integer (nullable = true)\n",
      " |-- OUT_PKTS: integer (nullable = true)\n",
      " |-- TCP_FLAGS: integer (nullable = true)\n",
      " |-- CLIENT_TCP_FLAGS: integer (nullable = true)\n",
      " |-- SERVER_TCP_FLAGS: integer (nullable = true)\n",
      " |-- FLOW_DURATION_MILLISECONDS: integer (nullable = true)\n",
      " |-- DURATION_IN: integer (nullable = true)\n",
      " |-- DURATION_OUT: integer (nullable = true)\n",
      " |-- MIN_TTL: integer (nullable = true)\n",
      " |-- MAX_TTL: integer (nullable = true)\n",
      " |-- LONGEST_FLOW_PKT: integer (nullable = true)\n",
      " |-- SHORTEST_FLOW_PKT: integer (nullable = true)\n",
      " |-- MIN_IP_PKT_LEN: integer (nullable = true)\n",
      " |-- MAX_IP_PKT_LEN: integer (nullable = true)\n",
      " |-- SRC_TO_DST_SECOND_BYTES: double (nullable = true)\n",
      " |-- DST_TO_SRC_SECOND_BYTES: double (nullable = true)\n",
      " |-- RETRANSMITTED_IN_BYTES: integer (nullable = true)\n",
      " |-- RETRANSMITTED_IN_PKTS: integer (nullable = true)\n",
      " |-- RETRANSMITTED_OUT_BYTES: integer (nullable = true)\n",
      " |-- RETRANSMITTED_OUT_PKTS: integer (nullable = true)\n",
      " |-- SRC_TO_DST_AVG_THROUGHPUT: long (nullable = true)\n",
      " |-- DST_TO_SRC_AVG_THROUGHPUT: long (nullable = true)\n",
      " |-- NUM_PKTS_UP_TO_128_BYTES: integer (nullable = true)\n",
      " |-- NUM_PKTS_128_TO_256_BYTES: integer (nullable = true)\n",
      " |-- NUM_PKTS_256_TO_512_BYTES: integer (nullable = true)\n",
      " |-- NUM_PKTS_512_TO_1024_BYTES: integer (nullable = true)\n",
      " |-- NUM_PKTS_1024_TO_1514_BYTES: integer (nullable = true)\n",
      " |-- TCP_WIN_MAX_IN: integer (nullable = true)\n",
      " |-- TCP_WIN_MAX_OUT: integer (nullable = true)\n",
      " |-- ICMP_TYPE: integer (nullable = true)\n",
      " |-- ICMP_IPV4_TYPE: integer (nullable = true)\n",
      " |-- DNS_QUERY_ID: integer (nullable = true)\n",
      " |-- DNS_QUERY_TYPE: integer (nullable = true)\n",
      " |-- DNS_TTL_ANSWER: integer (nullable = true)\n",
      " |-- FTP_COMMAND_RET_CODE: integer (nullable = true)\n",
      " |-- Label: integer (nullable = true)\n",
      " |-- Attack: string (nullable = true)\n",
      "\n"
     ]
    }
   ],
   "source": [
    "# Print the schema of the loaded data to confirm the data types of each column\n",
    "train_data.printSchema()\n",
    "test_data.printSchema()"
   ]
  },
  {
   "cell_type": "markdown",
   "metadata": {},
   "source": [
    "### Data preprocessing"
   ]
  },
  {
   "cell_type": "code",
   "execution_count": null,
   "metadata": {},
   "outputs": [],
   "source": []
  }
 ],
 "metadata": {
  "kernelspec": {
   "display_name": "vscode_pyspark",
   "language": "python",
   "name": "vscode_pyspark"
  },
  "language_info": {
   "codemirror_mode": {
    "name": "ipython",
    "version": 3
   },
   "file_extension": ".py",
   "mimetype": "text/x-python",
   "name": "python",
   "nbconvert_exporter": "python",
   "pygments_lexer": "ipython3",
   "version": "3.11.9"
  }
 },
 "nbformat": 4,
 "nbformat_minor": 2
}
