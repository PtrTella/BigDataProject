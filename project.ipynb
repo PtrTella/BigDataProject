{
 "cells": [
  {
   "cell_type": "code",
   "execution_count": 1,
   "metadata": {},
   "outputs": [
    {
     "name": "stdout",
     "output_type": "stream",
     "text": [
      "3.5.1\n"
     ]
    }
   ],
   "source": [
    "# check if pyspark works\n",
    "import pyspark\n",
    "print(pyspark.__version__)"
   ]
  },
  {
   "cell_type": "code",
   "execution_count": 2,
   "metadata": {},
   "outputs": [
    {
     "name": "stdout",
     "output_type": "stream",
     "text": [
      "+-----------------+------------+----+----------+----------+---------------+-----+--------+-----------------+--------------------+------------+----------+--------------------+----------------+-------------------+-----------+--------------+-----+-------------+----------------+--------------+-------------+----------------+---------+-------------+-------+--------------------+----------+--------------------+-----+------------+------+------+---------+--------+--------+-----------+-------------+----------+---------+--------------------+--------------------+----------+---------------+-------+---------------+-----------+------------------+-------+-------+--------------+-------------+------+-------------------+-----------+--------------------+------------+--------------------+------+------------+-----------------------+------------+--------------------+---------+-------+----+\n",
      "|              vin|back_legroom| bed|bed_height|bed_length|      body_type|cabin|    city|city_fuel_economy|combine_fuel_economy|daysonmarket|dealer_zip|         description|engine_cylinders|engine_displacement|engine_type|exterior_color|fleet|frame_damaged|franchise_dealer|franchise_make|front_legroom|fuel_tank_volume|fuel_type|has_accidents| height|highway_fuel_economy|horsepower|      interior_color|isCab|is_certified|is_cpo|is_new|is_oemcpo|latitude|  length|listed_date|listing_color|listing_id|longitude|    main_picture_url|       major_options| make_name|maximum_seating|mileage|     model_name|owner_count|             power|  price|salvage|savings_amount|seller_rating| sp_id|            sp_name|theft_title|              torque|transmission|transmission_display|trimId|   trim_name|vehicle_damage_category|wheel_system|wheel_system_display|wheelbase|  width|year|\n",
      "+-----------------+------------+----+----------+----------+---------------+-----+--------+-----------------+--------------------+------------+----------+--------------------+----------------+-------------------+-----------+--------------+-----+-------------+----------------+--------------+-------------+----------------+---------+-------------+-------+--------------------+----------+--------------------+-----+------------+------+------+---------+--------+--------+-----------+-------------+----------+---------+--------------------+--------------------+----------+---------------+-------+---------------+-----------+------------------+-------+-------+--------------+-------------+------+-------------------+-----------+--------------------+------------+--------------------+------+------------+-----------------------+------------+--------------------+---------+-------+----+\n",
      "|ZACNJABB5KPJ92081|     35.1 in|NULL|      NULL|      NULL|SUV / Crossover| NULL| Bayamon|             NULL|                NULL|         522|     00960|[!@@Additional In...|              I4|             1300.0|         I4|  Solar Yellow| NULL|         NULL|            True|          Jeep|      41.2 in|        12.7 gal| Gasoline|         NULL|66.5 in|                NULL|     177.0|               Black| NULL|        NULL|  NULL|  True|     NULL| 18.3988|166.6 in| 2019-04-06|       YELLOW| 237132766| -66.1582|https://static.ca...|['Quick Order Pac...|      Jeep|        5 seats|    7.0|       Renegade|       NULL|177 hp @ 5,750 RPM|23141.0|   NULL|             0|          2.8|370599|  Flagship Chrysler|       NULL|200 lb-ft @ 1,750...|           A|9-Speed Automatic...|t83804|Latitude FWD|                   NULL|         FWD|   Front-Wheel Drive| 101.2 in|79.6 in|2019|\n",
      "|SALCJ2FX1LH858117|     38.1 in|NULL|      NULL|      NULL|SUV / Crossover| NULL|San Juan|             NULL|                NULL|         207|     00922|[!@@Additional In...|              I4|             2000.0|         I4|  Narvik Black| NULL|         NULL|            True|    Land Rover|      39.1 in|        17.7 gal| Gasoline|         NULL|  68 in|                NULL|     246.0|       Black (Ebony)| NULL|        NULL|  NULL|  True|     NULL| 18.4439|  181 in| 2020-02-15|        BLACK| 265946296| -66.0785|https://static.ca...|['Adaptive Cruise...|Land Rover|        7 seats|    8.0|Discovery Sport|       NULL|246 hp @ 5,500 RPM|46500.0|   NULL|             0|          3.0|389227|Land Rover San Juan|       NULL|269 lb-ft @ 1,400...|           A|9-Speed Automatic...|t86759|       S AWD|                   NULL|         AWD|     All-Wheel Drive| 107.9 in|85.6 in|2020|\n",
      "|JF1VA2M67G9829723|     35.4 in|NULL|      NULL|      NULL|          Sedan| NULL|Guaynabo|             17.0|                NULL|        1233|     00969|                NULL|              H4|             2500.0|         H4|          None|False|        False|            True|          FIAT|      43.3 in|        15.9 gal| Gasoline|        False|58.1 in|                23.0|     305.0|                None|False|        NULL|  NULL| False|     NULL| 18.3467|180.9 in| 2017-04-25|      UNKNOWN| 173473508| -66.1098|                NULL|['Alloy Wheels', ...|    Subaru|        5 seats|   NULL|        WRX STI|        3.0|305 hp @ 6,000 RPM|46995.0|  False|             0|         NULL|370467|   FIAT de San Juan|      False|290 lb-ft @ 4,000...|           M|      6-Speed Manual|t58994|        Base|                   NULL|         AWD|     All-Wheel Drive| 104.3 in|78.9 in|2016|\n",
      "|SALRR2RV0L2433391|     37.6 in|NULL|      NULL|      NULL|SUV / Crossover| NULL|San Juan|             NULL|                NULL|         196|     00922|[!@@Additional In...|              V6|             3000.0|         V6|    Eiger Gray| NULL|         NULL|            True|    Land Rover|        39 in|        23.5 gal| Gasoline|         NULL|  73 in|                NULL|     340.0|Gray (Ebony/Ebony...| NULL|        NULL|  NULL|  True|     NULL| 18.4439|195.1 in| 2020-02-26|         GRAY| 266911050| -66.0785|https://static.ca...|                NULL|Land Rover|        7 seats|   11.0|      Discovery|       NULL|340 hp @ 6,500 RPM|67430.0|   NULL|             0|          3.0|389227|Land Rover San Juan|       NULL|332 lb-ft @ 3,500...|           A|8-Speed Automatic...|t86074|  V6 HSE AWD|                   NULL|         AWD|     All-Wheel Drive|   115 in|87.4 in|2020|\n",
      "|SALCJ2FXXLH862327|     38.1 in|NULL|      NULL|      NULL|SUV / Crossover| NULL|San Juan|             NULL|                NULL|         137|     00922|[!@@Additional In...|              I4|             2000.0|         I4|  Narvik Black| NULL|         NULL|            True|    Land Rover|      39.1 in|        17.7 gal| Gasoline|         NULL|  68 in|                NULL|     246.0|       Black (Ebony)| NULL|        NULL|  NULL|  True|     NULL| 18.4439|  181 in| 2020-04-25|        BLACK| 270957414| -66.0785|https://static.ca...|['Adaptive Cruise...|Land Rover|        7 seats|    7.0|Discovery Sport|       NULL|246 hp @ 5,500 RPM|48880.0|   NULL|             0|          3.0|389227|Land Rover San Juan|       NULL|269 lb-ft @ 1,400...|           A|9-Speed Automatic...|t86759|       S AWD|                   NULL|         AWD|     All-Wheel Drive| 107.9 in|85.6 in|2020|\n",
      "+-----------------+------------+----+----------+----------+---------------+-----+--------+-----------------+--------------------+------------+----------+--------------------+----------------+-------------------+-----------+--------------+-----+-------------+----------------+--------------+-------------+----------------+---------+-------------+-------+--------------------+----------+--------------------+-----+------------+------+------+---------+--------+--------+-----------+-------------+----------+---------+--------------------+--------------------+----------+---------------+-------+---------------+-----------+------------------+-------+-------+--------------+-------------+------+-------------------+-----------+--------------------+------------+--------------------+------+------------+-----------------------+------------+--------------------+---------+-------+----+\n",
      "only showing top 5 rows\n",
      "\n"
     ]
    }
   ],
   "source": [
    "# Load dataset using pyspark and clean it\n",
    "from pyspark.sql import SparkSession\n",
    "from pyspark.sql.functions import col\n",
    "from pyspark.sql.functions import isnan, when, count, col\n",
    "\n",
    "# Initialize Spark session\n",
    "spark = SparkSession.builder.appName(\"CarPricePrediction\").getOrCreate()\n",
    "\n",
    "# Load the dataset\n",
    "data_path = r\"./dataset/used_cars_data.csv\"\n",
    "df = spark.read.csv(data_path, header=True, inferSchema=True)\n",
    "\n",
    "# Show the first few rows of the dataframe\n",
    "df.show(5)\n"
   ]
  },
  {
   "cell_type": "markdown",
   "metadata": {},
   "source": [
    "## Data Exploration and Preprocessing\n",
    "\n",
    "Explore the data and preprocess it as needed."
   ]
  },
  {
   "cell_type": "code",
   "execution_count": 3,
   "metadata": {},
   "outputs": [],
   "source": [
    "def count_nulls(df):\n",
    "    null_counts = df.select([count(when(col(c).isNull() | isnan(c), c)).alias(c) for c in df.columns])\n",
    "    return null_counts\n",
    "\n",
    "\n",
    "# Display the schema of the dataset\n",
    "#df.printSchema()\n",
    "\n",
    "# Display summary statistics\n",
    "#df.describe().show()\n",
    "\n",
    "# Drop unnecessary columns\n",
    "\n",
    "# TODO drop the rows \n",
    "df = df.drop('bed', 'bed_height', 'bed_length', 'cabin', 'description', 'fleet', 'franchise_dealer', 'city_fuel_economy', 'highway_fuel_economy', 'salvage', 'savings_amount', 'franchise_make', 'combine_fuel_economy', 'daysonmarket', 'dealer_zip', 'is_certified', 'is_cpo', 'is_oemcpo', 'latitude', 'listing_color', 'listing_id', 'longitude', 'main_picture_url', 'owner_count', 'theft_title', 'torque', 'transmission_display', 'trimId', 'trim_name', 'vehicle_damage_category', 'wheel_system_display')\n",
    "\n",
    "# Show rows number\n",
    "#print(df.count())\n",
    "# Display dataset description\n",
    "#df.show()\n",
    "\n"
   ]
  },
  {
   "cell_type": "code",
   "execution_count": 4,
   "metadata": {},
   "outputs": [],
   "source": [
    "# Assume null as false: 'frame_damaged', 'has_accidents', 'isCab', 'major_options' since usually if not indicates not exist\n",
    "#count_nulls(df).show()\n",
    "df = df.fillna({'frame_damaged': False, 'has_accidents': False, 'isCab': False, 'major_options': False})\n",
    "\n",
    "#count_nulls(df).show()"
   ]
  },
  {
   "cell_type": "code",
   "execution_count": 5,
   "metadata": {},
   "outputs": [],
   "source": [
    "# Handle missing values if any (example: drop rows with missing values)\n",
    "df = df.dropna()\n",
    "\n",
    "#print(df.count())\n",
    "#count_nulls(df).show()"
   ]
  },
  {
   "cell_type": "code",
   "execution_count": 6,
   "metadata": {},
   "outputs": [],
   "source": [
    "# Salva il dataset aggiornato\n",
    "#df.write.csv('dataset_principale_aggiornato.csv', header=True)\n",
    "df.repartition(1).write.format(\"com.databricks.spark.csv\").option(\"header\", \"true\").save(\"mydata.csv\")"
   ]
  },
  {
   "cell_type": "code",
   "execution_count": 9,
   "metadata": {},
   "outputs": [],
   "source": [
    "from pyspark.sql.functions import col, coalesce, first\n",
    "#df.coalesce(1).write.csv(\"./mydf\")\n",
    "\n",
    "#df.repartition(1).write.csv(\"./mydf\")\n",
    "df.repartition(1).write.option(\"header\", True).csv(\"project-1/results\")"
   ]
  },
  {
   "cell_type": "code",
   "execution_count": null,
   "metadata": {},
   "outputs": [],
   "source": [
    "df.coalesce(1).write.format(\"com.databricks.spark.csv\").option(\"header\", \"true\").save(\"mydata.csv\")"
   ]
  },
  {
   "cell_type": "code",
   "execution_count": 27,
   "metadata": {},
   "outputs": [
    {
     "name": "stdout",
     "output_type": "stream",
     "text": [
      "234199\n"
     ]
    }
   ],
   "source": [
    "from pyspark.sql import SparkSession\n",
    "from pyspark.sql.functions import col, coalesce, first\n",
    "\n",
    "# Inizializza la sessione Spark\n",
    "spark = SparkSession.builder.appName(\"FillMissingFuelEconomy\").getOrCreate()\n",
    "\n",
    "# Carica i dataset\n",
    "dataset_principale = df\n",
    "dataset_secondario = spark.read.csv('./dataset/vehicles.csv', header=True, inferSchema=True)\n",
    "\n",
    "# Identifica i record con valori mancanti\n",
    "missing_values_df = dataset_principale.filter(\n",
    "    (col('highway_fuel_economy').isNull()) |\n",
    "    (col('city_fuel_economy').isNull())\n",
    ")\n",
    "\n",
    "print(missing_values_df.count())\n",
    "\n",
    "# Unione dinamica per riempire i valori mancanti\n",
    "updated_df = df.alias(\"main\").join(\n",
    "    dataset_secondario.alias(\"sec\"),\n",
    "    (col(\"main.make_name\") == col(\"sec.make\")) &\n",
    "    (col(\"main.model_name\") == col(\"sec.model\")) &\n",
    "    (col(\"main.year\") == col(\"sec.year\")),\n",
    "    how='left'\n",
    ").select(\n",
    "    \"main.*\",\n",
    "    col(\"sec.highway08\").alias(\"highway_fuel_economy\"),\n",
    "    col(\"sec.city08\").alias(\"city_fuel_economy\"),\n",
    "    #\"sec.model\"  # Include the model from secondary dataset for grouping\n",
    ")\n",
    "\n",
    "updated_df.describe().show()\n",
    "\n",
    "\n",
    "\n",
    "# Ferma la sessione Spark\n",
    "#spark.stop()\n"
   ]
  },
  {
   "cell_type": "code",
   "execution_count": 26,
   "metadata": {},
   "outputs": [
    {
     "name": "stdout",
     "output_type": "stream",
     "text": [
      "+-----------------+------------+---------------+--------+----------------+-------------------+-----------+--------------------+-------------+-------------+----------------+---------+-------------+-------+----------+--------------------+-----+------+--------+-----------+--------------------+----------+---------------+-------+------------------+------------------+-------+-------------+------+-------------------+------------+------------+---------+-------+----+--------------------+-----------------+\n",
      "|              vin|back_legroom|      body_type|    city|engine_cylinders|engine_displacement|engine_type|      exterior_color|frame_damaged|front_legroom|fuel_tank_volume|fuel_type|has_accidents| height|horsepower|      interior_color|isCab|is_new|  length|listed_date|       major_options| make_name|maximum_seating|mileage|        model_name|             power|  price|seller_rating| sp_id|            sp_name|transmission|wheel_system|wheelbase|  width|year|highway_fuel_economy|city_fuel_economy|\n",
      "+-----------------+------------+---------------+--------+----------------+-------------------+-----------+--------------------+-------------+-------------+----------------+---------+-------------+-------+----------+--------------------+-----+------+--------+-----------+--------------------+----------+---------------+-------+------------------+------------------+-------+-------------+------+-------------------+------------+------------+---------+-------+----+--------------------+-----------------+\n",
      "|ZACNJABB5KPJ92081|     35.1 in|SUV / Crossover| Bayamon|              I4|             1300.0|         I4|        Solar Yellow|        false|      41.2 in|        12.7 gal| Gasoline|        false|66.5 in|     177.0|               Black|false|  True|166.6 in| 2019-04-06|['Quick Order Pac...|      Jeep|        5 seats|    7.0|          Renegade|177 hp @ 5,750 RPM|23141.0|          2.8|370599|  Flagship Chrysler|           A|         FWD| 101.2 in|79.6 in|2019|                NULL|             NULL|\n",
      "|SALCJ2FX1LH858117|     38.1 in|SUV / Crossover|San Juan|              I4|             2000.0|         I4|        Narvik Black|        false|      39.1 in|        17.7 gal| Gasoline|        false|  68 in|     246.0|       Black (Ebony)|false|  True|  181 in| 2020-02-15|['Adaptive Cruise...|Land Rover|        7 seats|    8.0|   Discovery Sport|246 hp @ 5,500 RPM|46500.0|          3.0|389227|Land Rover San Juan|           A|         AWD| 107.9 in|85.6 in|2020|                  24|               19|\n",
      "|SALRR2RV0L2433391|     37.6 in|SUV / Crossover|San Juan|              V6|             3000.0|         V6|          Eiger Gray|        false|        39 in|        23.5 gal| Gasoline|        false|  73 in|     340.0|Gray (Ebony/Ebony...|false|  True|195.1 in| 2020-02-26|               false|Land Rover|        7 seats|   11.0|         Discovery|340 hp @ 6,500 RPM|67430.0|          3.0|389227|Land Rover San Juan|           A|         AWD|   115 in|87.4 in|2020|                  26|               21|\n",
      "|SALRR2RV0L2433391|     37.6 in|SUV / Crossover|San Juan|              V6|             3000.0|         V6|          Eiger Gray|        false|        39 in|        23.5 gal| Gasoline|        false|  73 in|     340.0|Gray (Ebony/Ebony...|false|  True|195.1 in| 2020-02-26|               false|Land Rover|        7 seats|   11.0|         Discovery|340 hp @ 6,500 RPM|67430.0|          3.0|389227|Land Rover San Juan|           A|         AWD|   115 in|87.4 in|2020|                  21|               16|\n",
      "|SALCJ2FXXLH862327|     38.1 in|SUV / Crossover|San Juan|              I4|             2000.0|         I4|        Narvik Black|        false|      39.1 in|        17.7 gal| Gasoline|        false|  68 in|     246.0|       Black (Ebony)|false|  True|  181 in| 2020-04-25|['Adaptive Cruise...|Land Rover|        7 seats|    7.0|   Discovery Sport|246 hp @ 5,500 RPM|48880.0|          3.0|389227|Land Rover San Juan|           A|         AWD| 107.9 in|85.6 in|2020|                  24|               19|\n",
      "|SALYK2EX1LA261711|     37.1 in|SUV / Crossover|San Juan|              I4|             2000.0|         I4|      Kaikoura Stone|        False|      40.2 in|        16.6 gal| Gasoline|        False|66.3 in|     247.0|Brown (Ebony / Eb...|False|  True|188.9 in| 2020-01-11|['Leather Seats',...|Land Rover|        5 seats|   12.0| Range Rover Velar|247 hp @ 5,500 RPM|66903.0|          3.0|389227|Land Rover San Juan|           A|         AWD| 113.1 in|84.4 in|2020|                  24|               18|\n",
      "|SALYK2EX1LA261711|     37.1 in|SUV / Crossover|San Juan|              I4|             2000.0|         I4|      Kaikoura Stone|        False|      40.2 in|        16.6 gal| Gasoline|        False|66.3 in|     247.0|Brown (Ebony / Eb...|False|  True|188.9 in| 2020-01-11|['Leather Seats',...|Land Rover|        5 seats|   12.0| Range Rover Velar|247 hp @ 5,500 RPM|66903.0|          3.0|389227|Land Rover San Juan|           A|         AWD| 113.1 in|84.4 in|2020|                  20|               15|\n",
      "|SALYK2EX1LA261711|     37.1 in|SUV / Crossover|San Juan|              I4|             2000.0|         I4|      Kaikoura Stone|        False|      40.2 in|        16.6 gal| Gasoline|        False|66.3 in|     247.0|Brown (Ebony / Eb...|False|  True|188.9 in| 2020-01-11|['Leather Seats',...|Land Rover|        5 seats|   12.0| Range Rover Velar|247 hp @ 5,500 RPM|66903.0|          3.0|389227|Land Rover San Juan|           A|         AWD| 113.1 in|84.4 in|2020|                  27|               21|\n",
      "|3MZBPABL6KM107908|     35.1 in|          Sedan| Bayamon|              I4|             2500.0|         I4|        SONIC SILVER|        false|      42.3 in|        13.2 gal| Gasoline|        false|56.9 in|     186.0|               Black|false|  True|183.5 in| 2019-06-20|['Alloy Wheels', ...|     Mazda|        5 seats|   14.0|            MAZDA3|186 hp @ 6,000 RPM|23695.0|          2.8|370599|  Flagship Chrysler|           A|         FWD| 107.3 in|70.7 in|2019|                NULL|             NULL|\n",
      "|SALYK2EX5LA275434|     37.1 in|SUV / Crossover|San Juan|              I4|             2000.0|         I4|          Fuji White|        false|      40.2 in|        16.6 gal| Gasoline|        false|66.3 in|     247.0|White (Eclipse / ...|false|  True|188.9 in| 2020-07-01|['Adaptive Cruise...|Land Rover|        5 seats|   11.0| Range Rover Velar|247 hp @ 5,500 RPM|68520.0|          3.0|389227|Land Rover San Juan|           A|         AWD| 113.1 in|84.4 in|2020|                  24|               18|\n",
      "|SALYK2EX5LA275434|     37.1 in|SUV / Crossover|San Juan|              I4|             2000.0|         I4|          Fuji White|        false|      40.2 in|        16.6 gal| Gasoline|        false|66.3 in|     247.0|White (Eclipse / ...|false|  True|188.9 in| 2020-07-01|['Adaptive Cruise...|Land Rover|        5 seats|   11.0| Range Rover Velar|247 hp @ 5,500 RPM|68520.0|          3.0|389227|Land Rover San Juan|           A|         AWD| 113.1 in|84.4 in|2020|                  20|               15|\n",
      "|SALYK2EX5LA275434|     37.1 in|SUV / Crossover|San Juan|              I4|             2000.0|         I4|          Fuji White|        false|      40.2 in|        16.6 gal| Gasoline|        false|66.3 in|     247.0|White (Eclipse / ...|false|  True|188.9 in| 2020-07-01|['Adaptive Cruise...|Land Rover|        5 seats|   11.0| Range Rover Velar|247 hp @ 5,500 RPM|68520.0|          3.0|389227|Land Rover San Juan|           A|         AWD| 113.1 in|84.4 in|2020|                  27|               21|\n",
      "|SALCJ2FX6LH858128|     38.1 in|SUV / Crossover|San Juan|              I4|             2000.0|         I4|          Eiger Gray|        false|      39.1 in|        17.7 gal| Gasoline|        false|  68 in|     246.0|       Black (Ebony)|false|  True|  181 in| 2020-02-26|['Navigation Syst...|Land Rover|        7 seats|    8.0|   Discovery Sport|246 hp @ 5,500 RPM|51245.0|          3.0|389227|Land Rover San Juan|           A|         AWD| 107.9 in|85.6 in|2020|                  24|               19|\n",
      "|SALZL2GX4LH007593|     33.8 in|SUV / Crossover|San Juan|              I4|             2000.0|         I4|              Blanco|        False|        40 in|        17.7 gal| Gasoline|        False|64.9 in|     296.0|       Eclipse/Ebony|False| False|172.1 in| 2019-04-18|['Leather Seats',...|Land Rover|        5 seats|  254.0|Range Rover Evoque|296 hp @ 5,500 RPM|84399.0|          3.0|389227|Land Rover San Juan|           A|         AWD| 105.6 in|82.7 in|2020|                NULL|             NULL|\n",
      "|SALZJ2FX0LH081763|     33.8 in|SUV / Crossover|San Juan|              I4|             2000.0|         I4|        Narvik Black|        false|        40 in|        17.7 gal| Gasoline|        false|64.9 in|     246.0|       Black (Ebony)|false|  True|172.1 in| 2020-03-14|['Convenience Pac...|Land Rover|        5 seats|   22.0|Range Rover Evoque|246 hp @ 5,500 RPM|51885.0|          3.0|389227|Land Rover San Juan|           A|         AWD| 105.6 in|82.7 in|2020|                NULL|             NULL|\n",
      "|SALYK2EX8LA268316|     37.1 in|SUV / Crossover|San Juan|              I4|             2000.0|         I4|       Aruba Premium|        false|      40.2 in|        16.6 gal| Gasoline|        false|66.3 in|     247.0|Gray (Ebony / Ebony)|false|  True|188.9 in| 2020-02-21|['Adaptive Cruise...|Land Rover|        5 seats|   20.0| Range Rover Velar|247 hp @ 5,500 RPM|68725.0|          3.0|389227|Land Rover San Juan|           A|         AWD| 113.1 in|84.4 in|2020|                  24|               18|\n",
      "|SALYK2EX8LA268316|     37.1 in|SUV / Crossover|San Juan|              I4|             2000.0|         I4|       Aruba Premium|        false|      40.2 in|        16.6 gal| Gasoline|        false|66.3 in|     247.0|Gray (Ebony / Ebony)|false|  True|188.9 in| 2020-02-21|['Adaptive Cruise...|Land Rover|        5 seats|   20.0| Range Rover Velar|247 hp @ 5,500 RPM|68725.0|          3.0|389227|Land Rover San Juan|           A|         AWD| 113.1 in|84.4 in|2020|                  20|               15|\n",
      "|SALYK2EX8LA268316|     37.1 in|SUV / Crossover|San Juan|              I4|             2000.0|         I4|       Aruba Premium|        false|      40.2 in|        16.6 gal| Gasoline|        false|66.3 in|     247.0|Gray (Ebony / Ebony)|false|  True|188.9 in| 2020-02-21|['Adaptive Cruise...|Land Rover|        5 seats|   20.0| Range Rover Velar|247 hp @ 5,500 RPM|68725.0|          3.0|389227|Land Rover San Juan|           A|         AWD| 113.1 in|84.4 in|2020|                  27|               21|\n",
      "|3MZBPABL1KM108237|     35.1 in|          Sedan| Bayamon|              I4|             2500.0|         I4|Snowflake White P...|        false|      42.3 in|        13.2 gal| Gasoline|        false|56.9 in|     186.0|               Black|false|  True|183.5 in| 2019-06-20|['Alloy Wheels', ...|     Mazda|        5 seats|  204.0|            MAZDA3|186 hp @ 6,000 RPM|23695.0|          2.8|370599|  Flagship Chrysler|           A|         FWD| 107.3 in|70.7 in|2019|                NULL|             NULL|\n",
      "|3MZBPABL4KM107969|     35.1 in|          Sedan| Bayamon|              I4|             2500.0|         I4|Snowflake White P...|        false|      42.3 in|        13.2 gal| Gasoline|        false|56.9 in|     186.0|               Black|false|  True|183.5 in| 2019-06-20|['Alloy Wheels', ...|     Mazda|        5 seats|   61.0|            MAZDA3|186 hp @ 6,000 RPM|23695.0|          2.8|370599|  Flagship Chrysler|           A|         FWD| 107.3 in|70.7 in|2019|                NULL|             NULL|\n",
      "+-----------------+------------+---------------+--------+----------------+-------------------+-----------+--------------------+-------------+-------------+----------------+---------+-------------+-------+----------+--------------------+-----+------+--------+-----------+--------------------+----------+---------------+-------+------------------+------------------+-------+-------------+------+-------------------+------------+------------+---------+-------+----+--------------------+-----------------+\n",
      "only showing top 20 rows\n",
      "\n",
      "2997820\n"
     ]
    }
   ],
   "source": [
    "updated_df.show()\n",
    "print(updated_df.count())"
   ]
  },
  {
   "cell_type": "code",
   "execution_count": null,
   "metadata": {},
   "outputs": [],
   "source": [
    "df = df.dropna()\n",
    "count_nulls(df).show()"
   ]
  },
  {
   "cell_type": "code",
   "execution_count": null,
   "metadata": {},
   "outputs": [],
   "source": [
    "# Rimuovi i duplicati mantenendo solo il primo valore\n",
    "final_df = updated_df.groupBy(\"make_name\", \"model_name\", \"year\").agg(\n",
    "    first(\"updated_highway_fuel_economy\").alias(\"highway_fuel_economy\"),\n",
    "    first(\"updated_city_fuel_economy\").alias(\"city_fuel_economy\"),\n",
    ")\n",
    "\n",
    "final_df.describe().show()\n",
    "# Unisci i record aggiornati con il dataset principale mantenendo i valori originali\n",
    "final_df = dataset_principale.alias(\"original\").join(\n",
    "    final_df.alias(\"updated\"),\n",
    "    on=['make_name', 'model_name', 'year'],\n",
    "    how='left'\n",
    ").select(\n",
    "    col(\"original.*\"),\n",
    "    coalesce(col(\"updated.highway_fuel_economy\"), col(\"original.highway_fuel_economy\")).alias(\"highway_fuel_economy\"),\n",
    "    coalesce(col(\"updated.city_fuel_economy\"), col(\"original.city_fuel_economy\")).alias(\"city_fuel_economy\"),\n",
    ")\n",
    "\n",
    "# Salva il dataset aggiornato\n",
    "final_df.write.csv('dataset_principale_aggiornato.csv', header=True)"
   ]
  },
  {
   "cell_type": "code",
   "execution_count": null,
   "metadata": {},
   "outputs": [
    {
     "name": "stdout",
     "output_type": "stream",
     "text": [
      "+-------+--------------------+------------------+------------------+-------------------+--------------------+--------------------+--------------------+--------------------+--------------------+--------------------+--------------------+--------------------+--------------------+------------------+--------------------+--------------------+------------------+--------------------+--------------------+--------------------+--------------------+--------------------+--------------------+--------------------+--------------------+--------------------+-------------------+--------------------+--------------------+--------------------+--------------------+--------------------+--------------------+--------------------+--------------------+-------------------+--------------------+--------------------+------------------+-----------------------------------------+-----------------------------------+\n",
      "|summary|                 vin|      back_legroom|         body_type|               city|   city_fuel_economy|    engine_cylinders| engine_displacement|         engine_type|      exterior_color|       frame_damaged|       front_legroom|    fuel_tank_volume|           fuel_type|     has_accidents|              height|highway_fuel_economy|        horsepower|      interior_color|               isCab|              is_new|              length|         listed_date|       major_options|           make_name|     maximum_seating|             mileage|         model_name|               power|               price|             salvage|      savings_amount|       seller_rating|               sp_id|             sp_name|        transmission|       wheel_system|           wheelbase|               width|              year|coalesce(highway_fuel_economy, highway08)|coalesce(city_fuel_economy, city08)|\n",
      "+-------+--------------------+------------------+------------------+-------------------+--------------------+--------------------+--------------------+--------------------+--------------------+--------------------+--------------------+--------------------+--------------------+------------------+--------------------+--------------------+------------------+--------------------+--------------------+--------------------+--------------------+--------------------+--------------------+--------------------+--------------------+--------------------+-------------------+--------------------+--------------------+--------------------+--------------------+--------------------+--------------------+--------------------+--------------------+-------------------+--------------------+--------------------+------------------+-----------------------------------------+-----------------------------------+\n",
      "|  count|               66667|             48724|             64650|              66395|                 869|               57648|               52622|               57523|               66147|               66667|               52338|               52270|               57554|             66667|               52414|               19365|             51699|               65173|               66667|               64238|               50477|               64394|               66667|               65548|               52361|               64921|              65712|               49203|               65130|               46002|               65288|               63875|               65542|               65535|               62098|              52246|               50935|               51053|             64604|                                    39335|                              20839|\n",
      "|   mean|            Infinity|              NULL|              NULL|               NULL|  59.090173410404624|                14.0|   3182.070411095839|   2691.581896551724|  4069.3766233766232|   3135.094224924012|  3611.5526315789475|  2679.7430359090913|   2776.703703703704|7875.6057692307695|  3572.8805970149256| 2.711464056750572E7| 257.1034667133241|    529.901832460733|   895.2170706006323|  2449.4277866383127|   366.3086168682576|   403.3866756058158|1.0601873028629692E8|1.0949363287876593E8| 8.710330569675939E7|  2522925.6782425437|2.182259375413105E7| 3.955123869427875E7|   843221.9372491405|1.2741418124067372E7|  485921.56947900157|  334668.65828355047|   557800.7928806815|   4976234.688073712|  3880368.2358804927|1.061226312134249E7|2.6756928883873682E7|2.3813234754049864E7|289736.75143135403|                       124374.40126659986|                 26.244780417566595|\n",
      "| stddev|                 NaN|              NULL|              NULL|               NULL|   711.3883603677758|                NULL|  1670.3354129203476|   1262.173317116714|  13038.544379958295|   6432.283956594415|   7455.915916649808|   1627.762961967394|   2018.101996198576| 38595.04454091118|  5401.7687578051355| 8.279710985275082E7| 593.9007332926924|   3376.173890434275|  13593.748739959534|  15563.592107077404|   2753.426436679153|  3130.1307629546322|1.3433664201863018E8|1.3477921960761717E8|1.2815791590616152E8|2.6055823029408935E7|7.467538811421838E7| 9.648742571201348E7|1.4986878194973009E7|5.7886796977331996E7|1.1543701821267888E7|   9611810.975838823|   9516815.335626408|3.6757430247553475E7| 3.215057421366427E7|5.299210838914653E7|  8.09886397634108E7| 7.719093362408142E7| 8840401.026426552|                        5869687.575961716|                 145.50157175480098|\n",
      "|    min|     DriverAirbag...| 'Backup Camera']\"| 'Parking Sensors'| 'Luxury Package']\"| AC blows cold as...|\\t  Blind Spot Mo...|  3.09 Rear Axle ...|  8.4\"\" Touchscre...|   **Note: Limo t...|\\t  Mudguards\\t  ...|                    |  3-Spoke Heated ...|  3-Spoke Heated ...|         Bluetooth|  12-Way Power Dr...|  Leather Perform...|  Media Hub (2 USB|   McKinney Mazda...|   Odometer is 62...|   *see dealer fo...|  Tires: P275/40Z...|  Universal Garag...|  Radio/Driver Se...|  Rain Sensitive ...|  Remote Tailgate...|  Single Disc Rem...|                   | & First Aid Kit)...| $199 documentati...| & Southfield roa...|      'Remote Start'|   'Parking Sensors'|  Wireless Apple®...|\\t Dijie Auto Sal...| (AZ3) front 40/2...| (BTV) Remote Start| $500 Owner Loyal...| (0 P) Dark Slate...|   'Leather Seats'|                       Leather Perform...|                AC blows cold as...|\n",
      "|    max|Zero Modification...|         V8 Diesel|             Wagon|     private seller|                Ford|      turn signal on|® AppLink and 2 s...|~ BLUETOOTH HANDS...|~STREAMING BLUETOOTH|       ~GM CERTIFIED|~ROOF RACK CROSS ...|~STREAMING BLUETOOTH|~STREAMING BLUETOOTH|    ~REMOTE START\"|      ~REMOTE START\"|~HEATED STEERING ...|~PANORAMIC SUNROOF|   ~BLIND ZONE ALERT|~CROSS TRAFFIC WA...|            titanium|          tachometer|    spare key holder|       trip odometer|vehicle stability...|    warning messages|           voltmeter|                 xD|      turn signal on|                  xA|rear 60/40 foldin...|     w/delayed entry|w/integral padded...|tether anchors fo...|          water temp|              t68788|        x Sedan AWD|              t94058|       xDrive35i AWD|     xDrive40i AWD|                     ~HEATED STEERING ...|                               Ford|\n",
      "+-------+--------------------+------------------+------------------+-------------------+--------------------+--------------------+--------------------+--------------------+--------------------+--------------------+--------------------+--------------------+--------------------+------------------+--------------------+--------------------+------------------+--------------------+--------------------+--------------------+--------------------+--------------------+--------------------+--------------------+--------------------+--------------------+-------------------+--------------------+--------------------+--------------------+--------------------+--------------------+--------------------+--------------------+--------------------+-------------------+--------------------+--------------------+------------------+-----------------------------------------+-----------------------------------+\n",
      "\n",
      "+---+------------+---------+----+-----------------+----------------+-------------------+-----------+--------------+-------------+-------------+----------------+---------+-------------+------+--------------------+----------+--------------+-----+------+------+-----------+-------------+---------+---------------+-------+----------+-----+-----+-------+--------------+-------------+-----+-------+------------+------------+---------+-----+----+-----------------------------------------+-----------------------------------+\n",
      "|vin|back_legroom|body_type|city|city_fuel_economy|engine_cylinders|engine_displacement|engine_type|exterior_color|frame_damaged|front_legroom|fuel_tank_volume|fuel_type|has_accidents|height|highway_fuel_economy|horsepower|interior_color|isCab|is_new|length|listed_date|major_options|make_name|maximum_seating|mileage|model_name|power|price|salvage|savings_amount|seller_rating|sp_id|sp_name|transmission|wheel_system|wheelbase|width|year|coalesce(highway_fuel_economy, highway08)|coalesce(city_fuel_economy, city08)|\n",
      "+---+------------+---------+----+-----------------+----------------+-------------------+-----------+--------------+-------------+-------------+----------------+---------+-------------+------+--------------------+----------+--------------+-----+------+------+-----------+-------------+---------+---------------+-------+----------+-----+-----+-------+--------------+-------------+-----+-------+------------+------------+---------+-----+----+-----------------------------------------+-----------------------------------+\n",
      "|  0|       17943|     2017| 272|            65798|            9019|              14045|       9144|           520|            0|        14329|           14397|     9113|            0| 14253|               47302|     14968|          1494|    0|  2429| 16190|       2273|            0|     1119|          14306|   1746|       955|17464| 1537|  20665|          1379|         2792| 1125|   1132|        4569|       14421|    15732|15614|2063|                                    27332|                              45828|\n",
      "+---+------------+---------+----+-----------------+----------------+-------------------+-----------+--------------+-------------+-------------+----------------+---------+-------------+------+--------------------+----------+--------------+-----+------+------+-----------+-------------+---------+---------------+-------+----------+-----+-----+-------+--------------+-------------+-----+-------+------------+------------+---------+-----+----+-----------------------------------------+-----------------------------------+\n",
      "\n"
     ]
    }
   ],
   "source": [
    "from pyspark.sql.window import Window\n",
    "import pyspark.sql.functions as F\n",
    "\n",
    "# Carica i dataset\n",
    "dataset_secondario = spark.read.csv('./dataset/vehicles.csv', header=True, inferSchema=True)\n",
    "\n",
    "# Identifica i record con valori mancanti\n",
    "missing_values_df = df.filter(\n",
    "    (col('highway_fuel_economy').isNull()) |\n",
    "    (col('city_fuel_economy').isNull())\n",
    ")\n",
    "\n",
    "# Aggiungi valori dal dataset secondario\n",
    "updated_df = missing_values_df.alias(\"main\").join(\n",
    "    dataset_secondario.alias(\"sec\"),\n",
    "    (col(\"main.make_name\") == col(\"sec.make\")) &\n",
    "    (col(\"main.model_name\") == col(\"sec.model\")) &\n",
    "    (col(\"main.year\") == col(\"sec.year\")),\n",
    "    how='left'\n",
    ").select(\n",
    "    \"main.*\",\n",
    "    F.coalesce(\"highway_fuel_economy\", \"sec.highway08\"),\n",
    "    F.coalesce(\"city_fuel_economy\", \"sec.city08\"),\n",
    ")\n",
    "\n",
    "\n",
    "updated_df.describe(80).show()\n",
    "count_nulls(updated_df).show()\n",
    "\n",
    "\n"
   ]
  },
  {
   "cell_type": "code",
   "execution_count": null,
   "metadata": {},
   "outputs": [
    {
     "ename": "AnalysisException",
     "evalue": "[UNRESOLVED_COLUMN.WITH_SUGGESTION] A column or function parameter with name `updated`.`combine_fuel_economy` cannot be resolved. Did you mean one of the following? [`updated`.`city_fuel_economy`, `updated`.`highway_fuel_economy`, `updated`.`back_legroom`, `original`.`city_fuel_economy`, `updated`.`front_legroom`].;\n'Project [make_name#69422, model_name#69425, year#69445, vin#69380, back_legroom#69381, body_type#69385, city#69387, city_fuel_economy#69388, engine_cylinders#69393, engine_displacement#69394, engine_type#69395, exterior_color#69396, frame_damaged#72705, front_legroom#69401, fuel_tank_volume#69402, fuel_type#69403, has_accidents#72706, height#69405, highway_fuel_economy#69406, horsepower#69407, interior_color#69408, isCab#72707, is_new#69412, length#69415, ... 18 more fields]\n+- Project [make_name#69422, model_name#69425, year#69445, vin#69380, back_legroom#69381, body_type#69385, city#69387, city_fuel_economy#69388, engine_cylinders#69393, engine_displacement#69394, engine_type#69395, exterior_color#69396, frame_damaged#72705, front_legroom#69401, fuel_tank_volume#69402, fuel_type#69403, has_accidents#72706, height#69405, highway_fuel_economy#69406, horsepower#69407, interior_color#69408, isCab#72707, is_new#69412, length#69415, ... 53 more fields]\n   +- Join LeftOuter, (((make_name#69422 = make_name#78857) AND (model_name#69425 = model_name#78860)) AND (year#69445 = year#78880))\n      :- SubqueryAlias original\n      :  +- Project [vin#69380, back_legroom#69381, body_type#69385, city#69387, city_fuel_economy#69388, engine_cylinders#69393, engine_displacement#69394, engine_type#69395, exterior_color#69396, coalesce(frame_damaged#69398, cast(false as string)) AS frame_damaged#72705, front_legroom#69401, fuel_tank_volume#69402, fuel_type#69403, coalesce(has_accidents#69404, cast(false as string)) AS has_accidents#72706, height#69405, highway_fuel_economy#69406, horsepower#69407, interior_color#69408, coalesce(isCab#69409, cast(false as string)) AS isCab#72707, is_new#69412, length#69415, listed_date#69416, coalesce(major_options#69421, cast(false as string)) AS major_options#72708, make_name#69422, ... 15 more fields]\n      :     +- Project [vin#69380, back_legroom#69381, body_type#69385, city#69387, city_fuel_economy#69388, engine_cylinders#69393, engine_displacement#69394, engine_type#69395, exterior_color#69396, frame_damaged#69398, front_legroom#69401, fuel_tank_volume#69402, fuel_type#69403, has_accidents#69404, height#69405, highway_fuel_economy#69406, horsepower#69407, interior_color#69408, isCab#69409, is_new#69412, length#69415, listed_date#69416, major_options#69421, make_name#69422, ... 15 more fields]\n      :        +- Relation [vin#69380,back_legroom#69381,bed#69382,bed_height#69383,bed_length#69384,body_type#69385,cabin#69386,city#69387,city_fuel_economy#69388,combine_fuel_economy#69389,daysonmarket#69390,dealer_zip#69391,description#69392,engine_cylinders#69393,engine_displacement#69394,engine_type#69395,exterior_color#69396,fleet#69397,frame_damaged#69398,franchise_dealer#69399,franchise_make#69400,front_legroom#69401,fuel_tank_volume#69402,fuel_type#69403,... 42 more fields] csv\n      +- SubqueryAlias updated\n         +- Project [vin#78815, back_legroom#78816, body_type#78820, city#78822, city_fuel_economy#78823, engine_cylinders#78828, engine_displacement#78829, engine_type#78830, exterior_color#78831, frame_damaged#78881, front_legroom#78836, fuel_tank_volume#78837, fuel_type#78838, has_accidents#78882, height#78840, highway_fuel_economy#78841, horsepower#78842, interior_color#78843, isCab#78883, is_new#78847, length#78850, listed_date#78851, major_options#78884, make_name#78857, ... 17 more fields]\n            +- Join LeftOuter, (((make_name#78857 = make#73280) AND (model_name#78860 = model#73281)) AND (cast(year#78880 as int) = year#73297))\n               :- SubqueryAlias main\n               :  +- Filter (isnull(highway_fuel_economy#78841) OR isnull(city_fuel_economy#78823))\n               :     +- Project [vin#78815, back_legroom#78816, body_type#78820, city#78822, city_fuel_economy#78823, engine_cylinders#78828, engine_displacement#78829, engine_type#78830, exterior_color#78831, coalesce(frame_damaged#78833, cast(false as string)) AS frame_damaged#78881, front_legroom#78836, fuel_tank_volume#78837, fuel_type#78838, coalesce(has_accidents#78839, cast(false as string)) AS has_accidents#78882, height#78840, highway_fuel_economy#78841, horsepower#78842, interior_color#78843, coalesce(isCab#78844, cast(false as string)) AS isCab#78883, is_new#78847, length#78850, listed_date#78851, coalesce(major_options#78856, cast(false as string)) AS major_options#78884, make_name#78857, ... 15 more fields]\n               :        +- Project [vin#78815, back_legroom#78816, body_type#78820, city#78822, city_fuel_economy#78823, engine_cylinders#78828, engine_displacement#78829, engine_type#78830, exterior_color#78831, frame_damaged#78833, front_legroom#78836, fuel_tank_volume#78837, fuel_type#78838, has_accidents#78839, height#78840, highway_fuel_economy#78841, horsepower#78842, interior_color#78843, isCab#78844, is_new#78847, length#78850, listed_date#78851, major_options#78856, make_name#78857, ... 15 more fields]\n               :           +- Relation [vin#78815,back_legroom#78816,bed#78817,bed_height#78818,bed_length#78819,body_type#78820,cabin#78821,city#78822,city_fuel_economy#78823,combine_fuel_economy#78824,daysonmarket#78825,dealer_zip#78826,description#78827,engine_cylinders#78828,engine_displacement#78829,engine_type#78830,exterior_color#78831,fleet#78832,frame_damaged#78833,franchise_dealer#78834,franchise_make#78835,front_legroom#78836,fuel_tank_volume#78837,fuel_type#78838,... 42 more fields] csv\n               +- SubqueryAlias sec\n                  +- Relation [barrels08#73234,barrelsA08#73235,charge120#73236,charge240#73237,city08#73238,city08U#73239,cityA08#73240,cityA08U#73241,cityCD#73242,cityE#73243,cityUF#73244,co2#73245,co2A#73246,co2TailpipeAGpm#73247,co2TailpipeGpm#73248,comb08#73249,comb08U#73250,combA08#73251,combA08U#73252,combE#73253,combinedCD#73254,combinedUF#73255,cylinders#73256,displ#73257,... 60 more fields] csv\n",
     "output_type": "error",
     "traceback": [
      "\u001b[0;31m---------------------------------------------------------------------------\u001b[0m",
      "\u001b[0;31mAnalysisException\u001b[0m                         Traceback (most recent call last)",
      "Cell \u001b[0;32mIn[58], line 6\u001b[0m\n\u001b[1;32m      1\u001b[0m \u001b[38;5;66;03m# Unisci i record aggiornati con il dataset principale\u001b[39;00m\n\u001b[1;32m      2\u001b[0m final_df \u001b[38;5;241m=\u001b[39m \u001b[43mdf\u001b[49m\u001b[38;5;241;43m.\u001b[39;49m\u001b[43malias\u001b[49m\u001b[43m(\u001b[49m\u001b[38;5;124;43m\"\u001b[39;49m\u001b[38;5;124;43moriginal\u001b[39;49m\u001b[38;5;124;43m\"\u001b[39;49m\u001b[43m)\u001b[49m\u001b[38;5;241;43m.\u001b[39;49m\u001b[43mjoin\u001b[49m\u001b[43m(\u001b[49m\n\u001b[1;32m      3\u001b[0m \u001b[43m    \u001b[49m\u001b[43mupdated_df\u001b[49m\u001b[38;5;241;43m.\u001b[39;49m\u001b[43malias\u001b[49m\u001b[43m(\u001b[49m\u001b[38;5;124;43m\"\u001b[39;49m\u001b[38;5;124;43mupdated\u001b[39;49m\u001b[38;5;124;43m\"\u001b[39;49m\u001b[43m)\u001b[49m\u001b[43m,\u001b[49m\n\u001b[1;32m      4\u001b[0m \u001b[43m    \u001b[49m\u001b[43mon\u001b[49m\u001b[38;5;241;43m=\u001b[39;49m\u001b[43m[\u001b[49m\u001b[38;5;124;43m'\u001b[39;49m\u001b[38;5;124;43mmake_name\u001b[39;49m\u001b[38;5;124;43m'\u001b[39;49m\u001b[43m,\u001b[49m\u001b[43m \u001b[49m\u001b[38;5;124;43m'\u001b[39;49m\u001b[38;5;124;43mmodel_name\u001b[39;49m\u001b[38;5;124;43m'\u001b[39;49m\u001b[43m,\u001b[49m\u001b[43m \u001b[49m\u001b[38;5;124;43m'\u001b[39;49m\u001b[38;5;124;43myear\u001b[39;49m\u001b[38;5;124;43m'\u001b[39;49m\u001b[43m]\u001b[49m\u001b[43m,\u001b[49m\n\u001b[1;32m      5\u001b[0m \u001b[43m    \u001b[49m\u001b[43mhow\u001b[49m\u001b[38;5;241;43m=\u001b[39;49m\u001b[38;5;124;43m'\u001b[39;49m\u001b[38;5;124;43mleft\u001b[39;49m\u001b[38;5;124;43m'\u001b[39;49m\n\u001b[0;32m----> 6\u001b[0m \u001b[43m)\u001b[49m\u001b[38;5;241;43m.\u001b[39;49m\u001b[43mselect\u001b[49m\u001b[43m(\u001b[49m\n\u001b[1;32m      7\u001b[0m \u001b[43m    \u001b[49m\u001b[38;5;124;43m\"\u001b[39;49m\u001b[38;5;124;43moriginal.*\u001b[39;49m\u001b[38;5;124;43m\"\u001b[39;49m\u001b[43m,\u001b[49m\n\u001b[1;32m      8\u001b[0m \u001b[43m    \u001b[49m\u001b[43mF\u001b[49m\u001b[38;5;241;43m.\u001b[39;49m\u001b[43mcoalesce\u001b[49m\u001b[43m(\u001b[49m\u001b[38;5;124;43m\"\u001b[39;49m\u001b[38;5;124;43mupdated.highway_fuel_economy\u001b[39;49m\u001b[38;5;124;43m\"\u001b[39;49m\u001b[43m,\u001b[49m\u001b[43m \u001b[49m\u001b[38;5;124;43m\"\u001b[39;49m\u001b[38;5;124;43moriginal.highway_fuel_economy\u001b[39;49m\u001b[38;5;124;43m\"\u001b[39;49m\u001b[43m)\u001b[49m\u001b[38;5;241;43m.\u001b[39;49m\u001b[43malias\u001b[49m\u001b[43m(\u001b[49m\u001b[38;5;124;43m\"\u001b[39;49m\u001b[38;5;124;43mhighway_fuel_economy\u001b[39;49m\u001b[38;5;124;43m\"\u001b[39;49m\u001b[43m)\u001b[49m\u001b[43m,\u001b[49m\n\u001b[1;32m      9\u001b[0m \u001b[43m    \u001b[49m\u001b[43mF\u001b[49m\u001b[38;5;241;43m.\u001b[39;49m\u001b[43mcoalesce\u001b[49m\u001b[43m(\u001b[49m\u001b[38;5;124;43m\"\u001b[39;49m\u001b[38;5;124;43mupdated.city_fuel_economy\u001b[39;49m\u001b[38;5;124;43m\"\u001b[39;49m\u001b[43m,\u001b[49m\u001b[43m \u001b[49m\u001b[38;5;124;43m\"\u001b[39;49m\u001b[38;5;124;43moriginal.city_fuel_economy\u001b[39;49m\u001b[38;5;124;43m\"\u001b[39;49m\u001b[43m)\u001b[49m\u001b[38;5;241;43m.\u001b[39;49m\u001b[43malias\u001b[49m\u001b[43m(\u001b[49m\u001b[38;5;124;43m\"\u001b[39;49m\u001b[38;5;124;43mcity_fuel_economy\u001b[39;49m\u001b[38;5;124;43m\"\u001b[39;49m\u001b[43m)\u001b[49m\u001b[43m,\u001b[49m\n\u001b[1;32m     10\u001b[0m \u001b[43m    \u001b[49m\u001b[43mF\u001b[49m\u001b[38;5;241;43m.\u001b[39;49m\u001b[43mcoalesce\u001b[49m\u001b[43m(\u001b[49m\u001b[38;5;124;43m\"\u001b[39;49m\u001b[38;5;124;43mupdated.combine_fuel_economy\u001b[39;49m\u001b[38;5;124;43m\"\u001b[39;49m\u001b[43m,\u001b[49m\u001b[43m \u001b[49m\u001b[38;5;124;43m\"\u001b[39;49m\u001b[38;5;124;43moriginal.combine_fuel_economy\u001b[39;49m\u001b[38;5;124;43m\"\u001b[39;49m\u001b[43m)\u001b[49m\u001b[38;5;241;43m.\u001b[39;49m\u001b[43malias\u001b[49m\u001b[43m(\u001b[49m\u001b[38;5;124;43m\"\u001b[39;49m\u001b[38;5;124;43mcombine_fuel_economy\u001b[39;49m\u001b[38;5;124;43m\"\u001b[39;49m\u001b[43m)\u001b[49m\n\u001b[1;32m     11\u001b[0m \u001b[43m)\u001b[49m\n\u001b[1;32m     12\u001b[0m \u001b[38;5;66;03m# Salva il dataset aggiornato\u001b[39;00m\n\u001b[1;32m     13\u001b[0m final_df\u001b[38;5;241m.\u001b[39mwrite\u001b[38;5;241m.\u001b[39mcsv(\u001b[38;5;124m'\u001b[39m\u001b[38;5;124mdataset_principale_aggiornato.csv\u001b[39m\u001b[38;5;124m'\u001b[39m, header\u001b[38;5;241m=\u001b[39m\u001b[38;5;28;01mTrue\u001b[39;00m)\n",
      "File \u001b[0;32m/opt/conda/envs/vscode_pyspark/lib/python3.11/site-packages/pyspark/sql/dataframe.py:3227\u001b[0m, in \u001b[0;36mDataFrame.select\u001b[0;34m(self, *cols)\u001b[0m\n\u001b[1;32m   3182\u001b[0m \u001b[38;5;28;01mdef\u001b[39;00m \u001b[38;5;21mselect\u001b[39m(\u001b[38;5;28mself\u001b[39m, \u001b[38;5;241m*\u001b[39mcols: \u001b[38;5;124m\"\u001b[39m\u001b[38;5;124mColumnOrName\u001b[39m\u001b[38;5;124m\"\u001b[39m) \u001b[38;5;241m-\u001b[39m\u001b[38;5;241m>\u001b[39m \u001b[38;5;124m\"\u001b[39m\u001b[38;5;124mDataFrame\u001b[39m\u001b[38;5;124m\"\u001b[39m:  \u001b[38;5;66;03m# type: ignore[misc]\u001b[39;00m\n\u001b[1;32m   3183\u001b[0m \u001b[38;5;250m    \u001b[39m\u001b[38;5;124;03m\"\"\"Projects a set of expressions and returns a new :class:`DataFrame`.\u001b[39;00m\n\u001b[1;32m   3184\u001b[0m \n\u001b[1;32m   3185\u001b[0m \u001b[38;5;124;03m    .. versionadded:: 1.3.0\u001b[39;00m\n\u001b[0;32m   (...)\u001b[0m\n\u001b[1;32m   3225\u001b[0m \u001b[38;5;124;03m    +-----+---+\u001b[39;00m\n\u001b[1;32m   3226\u001b[0m \u001b[38;5;124;03m    \"\"\"\u001b[39;00m\n\u001b[0;32m-> 3227\u001b[0m     jdf \u001b[38;5;241m=\u001b[39m \u001b[38;5;28;43mself\u001b[39;49m\u001b[38;5;241;43m.\u001b[39;49m\u001b[43m_jdf\u001b[49m\u001b[38;5;241;43m.\u001b[39;49m\u001b[43mselect\u001b[49m\u001b[43m(\u001b[49m\u001b[38;5;28;43mself\u001b[39;49m\u001b[38;5;241;43m.\u001b[39;49m\u001b[43m_jcols\u001b[49m\u001b[43m(\u001b[49m\u001b[38;5;241;43m*\u001b[39;49m\u001b[43mcols\u001b[49m\u001b[43m)\u001b[49m\u001b[43m)\u001b[49m\n\u001b[1;32m   3228\u001b[0m     \u001b[38;5;28;01mreturn\u001b[39;00m DataFrame(jdf, \u001b[38;5;28mself\u001b[39m\u001b[38;5;241m.\u001b[39msparkSession)\n",
      "File \u001b[0;32m/opt/conda/envs/vscode_pyspark/lib/python3.11/site-packages/py4j/java_gateway.py:1322\u001b[0m, in \u001b[0;36mJavaMember.__call__\u001b[0;34m(self, *args)\u001b[0m\n\u001b[1;32m   1316\u001b[0m command \u001b[38;5;241m=\u001b[39m proto\u001b[38;5;241m.\u001b[39mCALL_COMMAND_NAME \u001b[38;5;241m+\u001b[39m\\\n\u001b[1;32m   1317\u001b[0m     \u001b[38;5;28mself\u001b[39m\u001b[38;5;241m.\u001b[39mcommand_header \u001b[38;5;241m+\u001b[39m\\\n\u001b[1;32m   1318\u001b[0m     args_command \u001b[38;5;241m+\u001b[39m\\\n\u001b[1;32m   1319\u001b[0m     proto\u001b[38;5;241m.\u001b[39mEND_COMMAND_PART\n\u001b[1;32m   1321\u001b[0m answer \u001b[38;5;241m=\u001b[39m \u001b[38;5;28mself\u001b[39m\u001b[38;5;241m.\u001b[39mgateway_client\u001b[38;5;241m.\u001b[39msend_command(command)\n\u001b[0;32m-> 1322\u001b[0m return_value \u001b[38;5;241m=\u001b[39m \u001b[43mget_return_value\u001b[49m\u001b[43m(\u001b[49m\n\u001b[1;32m   1323\u001b[0m \u001b[43m    \u001b[49m\u001b[43manswer\u001b[49m\u001b[43m,\u001b[49m\u001b[43m \u001b[49m\u001b[38;5;28;43mself\u001b[39;49m\u001b[38;5;241;43m.\u001b[39;49m\u001b[43mgateway_client\u001b[49m\u001b[43m,\u001b[49m\u001b[43m \u001b[49m\u001b[38;5;28;43mself\u001b[39;49m\u001b[38;5;241;43m.\u001b[39;49m\u001b[43mtarget_id\u001b[49m\u001b[43m,\u001b[49m\u001b[43m \u001b[49m\u001b[38;5;28;43mself\u001b[39;49m\u001b[38;5;241;43m.\u001b[39;49m\u001b[43mname\u001b[49m\u001b[43m)\u001b[49m\n\u001b[1;32m   1325\u001b[0m \u001b[38;5;28;01mfor\u001b[39;00m temp_arg \u001b[38;5;129;01min\u001b[39;00m temp_args:\n\u001b[1;32m   1326\u001b[0m     \u001b[38;5;28;01mif\u001b[39;00m \u001b[38;5;28mhasattr\u001b[39m(temp_arg, \u001b[38;5;124m\"\u001b[39m\u001b[38;5;124m_detach\u001b[39m\u001b[38;5;124m\"\u001b[39m):\n",
      "File \u001b[0;32m/opt/conda/envs/vscode_pyspark/lib/python3.11/site-packages/pyspark/errors/exceptions/captured.py:185\u001b[0m, in \u001b[0;36mcapture_sql_exception.<locals>.deco\u001b[0;34m(*a, **kw)\u001b[0m\n\u001b[1;32m    181\u001b[0m converted \u001b[38;5;241m=\u001b[39m convert_exception(e\u001b[38;5;241m.\u001b[39mjava_exception)\n\u001b[1;32m    182\u001b[0m \u001b[38;5;28;01mif\u001b[39;00m \u001b[38;5;129;01mnot\u001b[39;00m \u001b[38;5;28misinstance\u001b[39m(converted, UnknownException):\n\u001b[1;32m    183\u001b[0m     \u001b[38;5;66;03m# Hide where the exception came from that shows a non-Pythonic\u001b[39;00m\n\u001b[1;32m    184\u001b[0m     \u001b[38;5;66;03m# JVM exception message.\u001b[39;00m\n\u001b[0;32m--> 185\u001b[0m     \u001b[38;5;28;01mraise\u001b[39;00m converted \u001b[38;5;28;01mfrom\u001b[39;00m \u001b[38;5;28;01mNone\u001b[39;00m\n\u001b[1;32m    186\u001b[0m \u001b[38;5;28;01melse\u001b[39;00m:\n\u001b[1;32m    187\u001b[0m     \u001b[38;5;28;01mraise\u001b[39;00m\n",
      "\u001b[0;31mAnalysisException\u001b[0m: [UNRESOLVED_COLUMN.WITH_SUGGESTION] A column or function parameter with name `updated`.`combine_fuel_economy` cannot be resolved. Did you mean one of the following? [`updated`.`city_fuel_economy`, `updated`.`highway_fuel_economy`, `updated`.`back_legroom`, `original`.`city_fuel_economy`, `updated`.`front_legroom`].;\n'Project [make_name#69422, model_name#69425, year#69445, vin#69380, back_legroom#69381, body_type#69385, city#69387, city_fuel_economy#69388, engine_cylinders#69393, engine_displacement#69394, engine_type#69395, exterior_color#69396, frame_damaged#72705, front_legroom#69401, fuel_tank_volume#69402, fuel_type#69403, has_accidents#72706, height#69405, highway_fuel_economy#69406, horsepower#69407, interior_color#69408, isCab#72707, is_new#69412, length#69415, ... 18 more fields]\n+- Project [make_name#69422, model_name#69425, year#69445, vin#69380, back_legroom#69381, body_type#69385, city#69387, city_fuel_economy#69388, engine_cylinders#69393, engine_displacement#69394, engine_type#69395, exterior_color#69396, frame_damaged#72705, front_legroom#69401, fuel_tank_volume#69402, fuel_type#69403, has_accidents#72706, height#69405, highway_fuel_economy#69406, horsepower#69407, interior_color#69408, isCab#72707, is_new#69412, length#69415, ... 53 more fields]\n   +- Join LeftOuter, (((make_name#69422 = make_name#78857) AND (model_name#69425 = model_name#78860)) AND (year#69445 = year#78880))\n      :- SubqueryAlias original\n      :  +- Project [vin#69380, back_legroom#69381, body_type#69385, city#69387, city_fuel_economy#69388, engine_cylinders#69393, engine_displacement#69394, engine_type#69395, exterior_color#69396, coalesce(frame_damaged#69398, cast(false as string)) AS frame_damaged#72705, front_legroom#69401, fuel_tank_volume#69402, fuel_type#69403, coalesce(has_accidents#69404, cast(false as string)) AS has_accidents#72706, height#69405, highway_fuel_economy#69406, horsepower#69407, interior_color#69408, coalesce(isCab#69409, cast(false as string)) AS isCab#72707, is_new#69412, length#69415, listed_date#69416, coalesce(major_options#69421, cast(false as string)) AS major_options#72708, make_name#69422, ... 15 more fields]\n      :     +- Project [vin#69380, back_legroom#69381, body_type#69385, city#69387, city_fuel_economy#69388, engine_cylinders#69393, engine_displacement#69394, engine_type#69395, exterior_color#69396, frame_damaged#69398, front_legroom#69401, fuel_tank_volume#69402, fuel_type#69403, has_accidents#69404, height#69405, highway_fuel_economy#69406, horsepower#69407, interior_color#69408, isCab#69409, is_new#69412, length#69415, listed_date#69416, major_options#69421, make_name#69422, ... 15 more fields]\n      :        +- Relation [vin#69380,back_legroom#69381,bed#69382,bed_height#69383,bed_length#69384,body_type#69385,cabin#69386,city#69387,city_fuel_economy#69388,combine_fuel_economy#69389,daysonmarket#69390,dealer_zip#69391,description#69392,engine_cylinders#69393,engine_displacement#69394,engine_type#69395,exterior_color#69396,fleet#69397,frame_damaged#69398,franchise_dealer#69399,franchise_make#69400,front_legroom#69401,fuel_tank_volume#69402,fuel_type#69403,... 42 more fields] csv\n      +- SubqueryAlias updated\n         +- Project [vin#78815, back_legroom#78816, body_type#78820, city#78822, city_fuel_economy#78823, engine_cylinders#78828, engine_displacement#78829, engine_type#78830, exterior_color#78831, frame_damaged#78881, front_legroom#78836, fuel_tank_volume#78837, fuel_type#78838, has_accidents#78882, height#78840, highway_fuel_economy#78841, horsepower#78842, interior_color#78843, isCab#78883, is_new#78847, length#78850, listed_date#78851, major_options#78884, make_name#78857, ... 17 more fields]\n            +- Join LeftOuter, (((make_name#78857 = make#73280) AND (model_name#78860 = model#73281)) AND (cast(year#78880 as int) = year#73297))\n               :- SubqueryAlias main\n               :  +- Filter (isnull(highway_fuel_economy#78841) OR isnull(city_fuel_economy#78823))\n               :     +- Project [vin#78815, back_legroom#78816, body_type#78820, city#78822, city_fuel_economy#78823, engine_cylinders#78828, engine_displacement#78829, engine_type#78830, exterior_color#78831, coalesce(frame_damaged#78833, cast(false as string)) AS frame_damaged#78881, front_legroom#78836, fuel_tank_volume#78837, fuel_type#78838, coalesce(has_accidents#78839, cast(false as string)) AS has_accidents#78882, height#78840, highway_fuel_economy#78841, horsepower#78842, interior_color#78843, coalesce(isCab#78844, cast(false as string)) AS isCab#78883, is_new#78847, length#78850, listed_date#78851, coalesce(major_options#78856, cast(false as string)) AS major_options#78884, make_name#78857, ... 15 more fields]\n               :        +- Project [vin#78815, back_legroom#78816, body_type#78820, city#78822, city_fuel_economy#78823, engine_cylinders#78828, engine_displacement#78829, engine_type#78830, exterior_color#78831, frame_damaged#78833, front_legroom#78836, fuel_tank_volume#78837, fuel_type#78838, has_accidents#78839, height#78840, highway_fuel_economy#78841, horsepower#78842, interior_color#78843, isCab#78844, is_new#78847, length#78850, listed_date#78851, major_options#78856, make_name#78857, ... 15 more fields]\n               :           +- Relation [vin#78815,back_legroom#78816,bed#78817,bed_height#78818,bed_length#78819,body_type#78820,cabin#78821,city#78822,city_fuel_economy#78823,combine_fuel_economy#78824,daysonmarket#78825,dealer_zip#78826,description#78827,engine_cylinders#78828,engine_displacement#78829,engine_type#78830,exterior_color#78831,fleet#78832,frame_damaged#78833,franchise_dealer#78834,franchise_make#78835,front_legroom#78836,fuel_tank_volume#78837,fuel_type#78838,... 42 more fields] csv\n               +- SubqueryAlias sec\n                  +- Relation [barrels08#73234,barrelsA08#73235,charge120#73236,charge240#73237,city08#73238,city08U#73239,cityA08#73240,cityA08U#73241,cityCD#73242,cityE#73243,cityUF#73244,co2#73245,co2A#73246,co2TailpipeAGpm#73247,co2TailpipeGpm#73248,comb08#73249,comb08U#73250,combA08#73251,combA08U#73252,combE#73253,combinedCD#73254,combinedUF#73255,cylinders#73256,displ#73257,... 60 more fields] csv\n"
     ]
    }
   ],
   "source": [
    "# Unisci i record aggiornati con il dataset principale\n",
    "final_df = df.alias(\"original\").join(\n",
    "    updated_df.alias(\"updated\"),\n",
    "    on=['make_name', 'model_name', 'year'],\n",
    "    how='left'\n",
    ").select(\n",
    "    \"original.*\",\n",
    "    F.coalesce(\"updated.highway_fuel_economy\", \"original.highway_fuel_economy\").alias(\"highway_fuel_economy\"),\n",
    "    F.coalesce(\"updated.city_fuel_economy\", \"original.city_fuel_economy\").alias(\"city_fuel_economy\"),\n",
    "    F.coalesce(\"updated.combine_fuel_economy\", \"original.combine_fuel_economy\").alias(\"combine_fuel_economy\")\n",
    ")\n",
    "# Salva il dataset aggiornato\n",
    "final_df.write.csv('dataset_principale_aggiornato.csv', header=True)"
   ]
  },
  {
   "cell_type": "code",
   "execution_count": null,
   "metadata": {},
   "outputs": [
    {
     "name": "stdout",
     "output_type": "stream",
     "text": [
      "+---+------------+---------+----+-----------------+----------------+-------------------+-----------+--------------+-------------+-------------+----------------+---------+-------------+------+--------------------+----------+--------------+-----+------+------+-----------+-------------+---------+---------------+-------+----------+-----+-----+-------+--------------+-------------+-----+-------+------------+------------+---------+-----+----+\n",
      "|vin|back_legroom|body_type|city|city_fuel_economy|engine_cylinders|engine_displacement|engine_type|exterior_color|frame_damaged|front_legroom|fuel_tank_volume|fuel_type|has_accidents|height|highway_fuel_economy|horsepower|interior_color|isCab|is_new|length|listed_date|major_options|make_name|maximum_seating|mileage|model_name|power|price|salvage|savings_amount|seller_rating|sp_id|sp_name|transmission|wheel_system|wheelbase|width|year|\n",
      "+---+------------+---------+----+-----------------+----------------+-------------------+-----------+--------------+-------------+-------------+----------------+---------+-------------+------+--------------------+----------+--------------+-----+------+------+-----------+-------------+---------+---------------+-------+----------+-----+-----+-------+--------------+-------------+-----+-------+------------+------------+---------+-----+----+\n",
      "|  0|       16290|     1594| 272|            53954|            7657|              12517|       7784|           545|            0|        14956|           14380|     8251|            0| 12741|               35458|     14790|          2909|    0|  6373| 19997|       7759|            0|     2622|          14025|   6245|      2229|34888| 2671|  91129|          4039|         7132| 3477|   3255|        6250|       14780|    17891|17623|5235|\n",
      "+---+------------+---------+----+-----------------+----------------+-------------------+-----------+--------------+-------------+-------------+----------------+---------+-------------+------+--------------------+----------+--------------+-----+------+------+-----------+-------------+---------+---------------+-------+----------+-----+-----+-------+--------------+-------------+-----+-------+------------+------------+---------+-----+----+\n",
      "\n",
      "173903\n",
      "+---+------------+---------+----+-----------------+----------------+-------------------+-----------+--------------+-------------+-------------+----------------+---------+-------------+------+--------------------+----------+--------------+-----+------+------+-----------+-------------+---------+---------------+-------+----------+-----+-----+-------+--------------+-------------+-----+-------+------------+------------+---------+-----+----+\n",
      "|vin|back_legroom|body_type|city|city_fuel_economy|engine_cylinders|engine_displacement|engine_type|exterior_color|frame_damaged|front_legroom|fuel_tank_volume|fuel_type|has_accidents|height|highway_fuel_economy|horsepower|interior_color|isCab|is_new|length|listed_date|major_options|make_name|maximum_seating|mileage|model_name|power|price|salvage|savings_amount|seller_rating|sp_id|sp_name|transmission|wheel_system|wheelbase|width|year|\n",
      "+---+------------+---------+----+-----------------+----------------+-------------------+-----------+--------------+-------------+-------------+----------------+---------+-------------+------+--------------------+----------+--------------+-----+------+------+-----------+-------------+---------+---------------+-------+----------+-----+-----+-------+--------------+-------------+-----+-------+------------+------------+---------+-----+----+\n",
      "|  0|           0|        0|   0|                0|               0|                  0|          0|             0|            0|            0|               0|        0|            0|     0|                   0|         0|             0|    0|     0|     0|          0|            0|        0|              0|      0|         0|    0|    0|      0|             0|            0|    0|      0|           0|           0|        0|    0|   0|\n",
      "+---+------------+---------+----+-----------------+----------------+-------------------+-----------+--------------+-------------+-------------+----------------+---------+-------------+------+--------------------+----------+--------------+-----+------+------+-----------+-------------+---------+---------------+-------+----------+-----+-----+-------+--------------+-------------+-----+-------+------------+------------+---------+-----+----+\n",
      "\n"
     ]
    }
   ],
   "source": [
    "# drop also daysonmarket and dealer_zip not related to our study ... more general\n",
    "# replace fro, datasets: highway_fuel_economy and city_fuel_economy eventually combine_fuel_economy\n",
    "# source: https://www.fueleconomy.gov/feg/download.shtml\n",
    "#Assume null as false: 'frame_damaged' and 'has_accidents', isCab, major_options\n",
    "# Duplicates: sp_id and sp_name (name and model id it's same data...different version maybe int it's better but not understandable)\n",
    "# Display the number of missing values in each column\n",
    "count_nulls(df).show()\n",
    "\n",
    "# Handle missing values if any (example: drop rows with missing values)\n",
    "df = df.dropna()\n",
    "\n",
    "print(df.count())\n",
    "count_nulls(df).show()"
   ]
  }
 ],
 "metadata": {
  "kernelspec": {
   "display_name": "vscode_pyspark",
   "language": "python",
   "name": "vscode_pyspark"
  },
  "language_info": {
   "codemirror_mode": {
    "name": "ipython",
    "version": 3
   },
   "file_extension": ".py",
   "mimetype": "text/x-python",
   "name": "python",
   "nbconvert_exporter": "python",
   "pygments_lexer": "ipython3",
   "version": "3.11.9"
  }
 },
 "nbformat": 4,
 "nbformat_minor": 2
}
